{
 "cells": [
  {
   "cell_type": "code",
   "execution_count": 1,
   "metadata": {
    "collapsed": true
   },
   "outputs": [],
   "source": [
    "include(\"common.jl\")\n",
    "\n",
    "using Callbacks\n",
    "using InvRayTrace: img, img_obs, nointersect, scene\n",
    "using InvRayTrace: Vec3, Sphere\n",
    "import InvRayTrace\n",
    "import RayTrace\n",
    "import ImageView\n",
    "using Lens\n",
    "using Omega\n",
    "using Omega.Space\n",
    "using CanSee\n",
    "using Images\n",
    "using Plots"
   ]
  },
  {
   "cell_type": "markdown",
   "metadata": {},
   "source": [
    "using JLD2\n",
    "const DATADIR = ENV[\"DATADIR\"]\n",
    "@load \"theres.jld2\""
   ]
  },
  {
   "cell_type": "code",
   "execution_count": 2,
   "metadata": {},
   "outputs": [
    {
     "data": {
      "text/plain": [
       "Main.##370.highresrender"
      ]
     },
     "execution_count": 2,
     "metadata": {},
     "output_type": "execute_result"
    }
   ],
   "source": [
    "\"Generate 500 samples using inverse graphics\"\n",
    "generatedata() = InvRayTrace.sampleposterior_noi(500; noi = false, alg = SSMH, gamma = 100.0)\n",
    "\n",
    "\"High resolution render of scene\"\n",
    "highresrender(sc) = RayTrace.rgb.(RayTrace.render(sc; width = 1024, height = 1024))"
   ]
  },
  {
   "cell_type": "markdown",
   "metadata": {},
   "source": [
    "### Actual Causation\n",
    "In this example we use counterfactuals to determine whether a is the cause of b.\n",
    "In particular, to determine whether the position of some object a is the cause of us not being able to see object b\n",
    "We will solve two problems\n",
    "1. Inverse Graphics, figure out what hte 3d scene is that created a 2d image\n",
    "2. The actual causation question described above"
   ]
  },
  {
   "cell_type": "markdown",
   "metadata": {},
   "source": [
    "In principle we could do these simultaneously as one big inference query but to save computation time here we will solve the 1 first and use that data data in the second"
   ]
  },
  {
   "cell_type": "markdown",
   "metadata": {},
   "source": [
    "### 1. Inverse Graphics"
   ]
  },
  {
   "cell_type": "markdown",
   "metadata": {},
   "source": [
    "Sample from the posterior of scenes"
   ]
  },
  {
   "cell_type": "code",
   "execution_count": 3,
   "metadata": {},
   "outputs": [
    {
     "data": {
      "text/plain": [
       "500-element Array{RayTrace.ListScene{RayTrace.MaterialGeom{GeometryTypes.HyperSphere{3,Float64},RayTrace.Material{GeometryTypes.Vec{3,Float64},Float64,Float64,GeometryTypes.Vec{3,Float64}}}},1}:\n",
       " RayTrace.ListScene{RayTrace.MaterialGeom{GeometryTypes.HyperSphere{3,Float64},RayTrace.Material{GeometryTypes.Vec{3,Float64},Float64,Float64,GeometryTypes.Vec{3,Float64}}}}(RayTrace.MaterialGeom{GeometryTypes.HyperSphere{3,Float64},RayTrace.Material{GeometryTypes.Vec{3,Float64},Float64,Float64,GeometryTypes.Vec{3,Float64}}}[MaterialGeom{HyperSphere{3,Float64},Material{Vec{3,Float64},Float64,Float64,Vec{3,Float64}}}(HyperSphere{3,Float64}([0.955483, 0.989129, -17.9624], 2.86956), Material{Vec{3,Float64},Float64,Float64,Vec{3,Float64}}([0.792496, 0.617092, 0.47515], 1.0, 0.0, [0.0, 0.0, 0.0])), MaterialGeom{HyperSphere{3,Float64},Material{Vec{3,Float64},Float64,Float64,Vec{3,Float64}}}(HyperSphere{3,Float64}([-3.9009, -0.664968, -25.5857], 4.85936), Material{Vec{3,Float64},Float64,Float64,Vec{3,Float64}}([0.0963644, 0.820959, 0.981359], 1.0, 0.0, [0.0, 0.0, 0.0])), MaterialGeom{HyperSphere{3,Float64},Material{Vec{3,Float64},Float64,Float64,Vec{3,Float64}}}(HyperSphere{3,Float64}([2.87525, 0.0546891, -21.1499], 1.61068), Material{Vec{3,Float64},Float64,Float64,Vec{3,Float64}}([0.275759, 0.578135, 0.993127], 1.0, 0.0, [0.0, 0.0, 0.0])), MaterialGeom{HyperSphere{3,Float64},Material{Vec{3,Float64},Float64,Float64,Vec{3,Float64}}}(HyperSphere{3,Float64}([0.0, -10004.0, -20.0], 10000.0), Material{Vec{3,Float64},Float64,Float64,Vec{3,Float64}}([0.2, 0.2, 0.2], 0.0, 0.0, [0.0, 0.0, 0.0])), MaterialGeom{HyperSphere{3,Float64},Material{Vec{3,Float64},Float64,Float64,Vec{3,Float64}}}(HyperSphere{3,Float64}([0.0, 20.0, -30.0], 3.0), Material{Vec{3,Float64},Float64,Float64,Vec{3,Float64}}([0.0, 0.0, 0.0], 0.0, 0.0, [3.0, 3.0, 3.0]))])                                                                                                                                                                                                                                                                                                                                                                                                                                                                                                                                                                                                                                                                                                                                                                                                                                                            \n",
       " RayTrace.ListScene{RayTrace.MaterialGeom{GeometryTypes.HyperSphere{3,Float64},RayTrace.Material{GeometryTypes.Vec{3,Float64},Float64,Float64,GeometryTypes.Vec{3,Float64}}}}(RayTrace.MaterialGeom{GeometryTypes.HyperSphere{3,Float64},RayTrace.Material{GeometryTypes.Vec{3,Float64},Float64,Float64,GeometryTypes.Vec{3,Float64}}}[MaterialGeom{HyperSphere{3,Float64},Material{Vec{3,Float64},Float64,Float64,Vec{3,Float64}}}(HyperSphere{3,Float64}([0.955483, 0.989129, -17.9624], 2.86956), Material{Vec{3,Float64},Float64,Float64,Vec{3,Float64}}([0.792496, 0.617092, 0.47515], 1.0, 0.0, [0.0, 0.0, 0.0])), MaterialGeom{HyperSphere{3,Float64},Material{Vec{3,Float64},Float64,Float64,Vec{3,Float64}}}(HyperSphere{3,Float64}([-3.9009, -0.664968, -25.5857], 4.85936), Material{Vec{3,Float64},Float64,Float64,Vec{3,Float64}}([0.531275, 0.820959, 0.981359], 1.0, 0.0, [0.0, 0.0, 0.0])), MaterialGeom{HyperSphere{3,Float64},Material{Vec{3,Float64},Float64,Float64,Vec{3,Float64}}}(HyperSphere{3,Float64}([2.87525, 0.0546891, -21.1499], 1.61068), Material{Vec{3,Float64},Float64,Float64,Vec{3,Float64}}([0.275759, 0.578135, 0.993127], 1.0, 0.0, [0.0, 0.0, 0.0])), MaterialGeom{HyperSphere{3,Float64},Material{Vec{3,Float64},Float64,Float64,Vec{3,Float64}}}(HyperSphere{3,Float64}([0.0, -10004.0, -20.0], 10000.0), Material{Vec{3,Float64},Float64,Float64,Vec{3,Float64}}([0.2, 0.2, 0.2], 0.0, 0.0, [0.0, 0.0, 0.0])), MaterialGeom{HyperSphere{3,Float64},Material{Vec{3,Float64},Float64,Float64,Vec{3,Float64}}}(HyperSphere{3,Float64}([0.0, 20.0, -30.0], 3.0), Material{Vec{3,Float64},Float64,Float64,Vec{3,Float64}}([0.0, 0.0, 0.0], 0.0, 0.0, [3.0, 3.0, 3.0]))])                                                                                                                                                                                                                                                                                                                                                                                                                                                                                                                                                                                                                                                                                                                                                                                                                                                             \n",
       " RayTrace.ListScene{RayTrace.MaterialGeom{GeometryTypes.HyperSphere{3,Float64},RayTrace.Material{GeometryTypes.Vec{3,Float64},Float64,Float64,GeometryTypes.Vec{3,Float64}}}}(RayTrace.MaterialGeom{GeometryTypes.HyperSphere{3,Float64},RayTrace.Material{GeometryTypes.Vec{3,Float64},Float64,Float64,GeometryTypes.Vec{3,Float64}}}[MaterialGeom{HyperSphere{3,Float64},Material{Vec{3,Float64},Float64,Float64,Vec{3,Float64}}}(HyperSphere{3,Float64}([0.955483, 0.989129, -17.9624], 2.86956), Material{Vec{3,Float64},Float64,Float64,Vec{3,Float64}}([0.792496, 0.617092, 0.47515], 1.0, 0.0, [0.0, 0.0, 0.0])), MaterialGeom{HyperSphere{3,Float64},Material{Vec{3,Float64},Float64,Float64,Vec{3,Float64}}}(HyperSphere{3,Float64}([-3.9009, -0.664968, -25.5857], 4.85936), Material{Vec{3,Float64},Float64,Float64,Vec{3,Float64}}([0.531275, 0.820959, 0.981359], 1.0, 0.0, [0.0, 0.0, 0.0])), MaterialGeom{HyperSphere{3,Float64},Material{Vec{3,Float64},Float64,Float64,Vec{3,Float64}}}(HyperSphere{3,Float64}([2.87525, 0.0546891, -21.1499], 1.61068), Material{Vec{3,Float64},Float64,Float64,Vec{3,Float64}}([0.275759, 0.578135, 0.993127], 1.0, 0.0, [0.0, 0.0, 0.0])), MaterialGeom{HyperSphere{3,Float64},Material{Vec{3,Float64},Float64,Float64,Vec{3,Float64}}}(HyperSphere{3,Float64}([0.0, -10004.0, -20.0], 10000.0), Material{Vec{3,Float64},Float64,Float64,Vec{3,Float64}}([0.2, 0.2, 0.2], 0.0, 0.0, [0.0, 0.0, 0.0])), MaterialGeom{HyperSphere{3,Float64},Material{Vec{3,Float64},Float64,Float64,Vec{3,Float64}}}(HyperSphere{3,Float64}([0.0, 20.0, -30.0], 3.0), Material{Vec{3,Float64},Float64,Float64,Vec{3,Float64}}([0.0, 0.0, 0.0], 0.0, 0.0, [3.0, 3.0, 3.0]))])                                                                                                                                                                                                                                                                                                                                                                                                                                                                                                                                                                                                                                                                                                                                                                                                                                                             \n",
       " RayTrace.ListScene{RayTrace.MaterialGeom{GeometryTypes.HyperSphere{3,Float64},RayTrace.Material{GeometryTypes.Vec{3,Float64},Float64,Float64,GeometryTypes.Vec{3,Float64}}}}(RayTrace.MaterialGeom{GeometryTypes.HyperSphere{3,Float64},RayTrace.Material{GeometryTypes.Vec{3,Float64},Float64,Float64,GeometryTypes.Vec{3,Float64}}}[MaterialGeom{HyperSphere{3,Float64},Material{Vec{3,Float64},Float64,Float64,Vec{3,Float64}}}(HyperSphere{3,Float64}([0.955483, 0.989129, -17.9624], 2.86956), Material{Vec{3,Float64},Float64,Float64,Vec{3,Float64}}([0.792496, 0.617092, 0.47515], 1.0, 0.0, [0.0, 0.0, 0.0])), MaterialGeom{HyperSphere{3,Float64},Material{Vec{3,Float64},Float64,Float64,Vec{3,Float64}}}(HyperSphere{3,Float64}([-3.9009, -0.664968, -25.5857], 4.85936), Material{Vec{3,Float64},Float64,Float64,Vec{3,Float64}}([0.531275, 0.820959, 0.981359], 1.0, 0.0, [0.0, 0.0, 0.0])), MaterialGeom{HyperSphere{3,Float64},Material{Vec{3,Float64},Float64,Float64,Vec{3,Float64}}}(HyperSphere{3,Float64}([2.87525, 0.0546891, -21.1499], 1.61068), Material{Vec{3,Float64},Float64,Float64,Vec{3,Float64}}([0.275759, 0.578135, 0.993127], 1.0, 0.0, [0.0, 0.0, 0.0])), MaterialGeom{HyperSphere{3,Float64},Material{Vec{3,Float64},Float64,Float64,Vec{3,Float64}}}(HyperSphere{3,Float64}([2.67476, -0.909245, -19.181], 3.80132), Material{Vec{3,Float64},Float64,Float64,Vec{3,Float64}}([0.66516, 0.230811, 0.450592], 1.0, 0.0, [0.0, 0.0, 0.0])), MaterialGeom{HyperSphere{3,Float64},Material{Vec{3,Float64},Float64,Float64,Vec{3,Float64}}}(HyperSphere{3,Float64}([5.72308, -0.071894, -28.5044], 3.58115), Material{Vec{3,Float64},Float64,Float64,Vec{3,Float64}}([0.230501, 0.488797, 0.692081], 1.0, 0.0, [0.0, 0.0, 0.0])), MaterialGeom{HyperSphere{3,Float64},Material{Vec{3,Float64},Float64,Float64,Vec{3,Float64}}}(HyperSphere{3,Float64}([0.0, -10004.0, -20.0], 10000.0), Material{Vec{3,Float64},Float64,Float64,Vec{3,Float64}}([0.2, 0.2, 0.2], 0.0, 0.0, [0.0, 0.0, 0.0])), MaterialGeom{HyperSphere{3,Float64},Material{Vec{3,Float64},Float64,Float64,Vec{3,Float64}}}(HyperSphere{3,Float64}([0.0, 20.0, -30.0], 3.0), Material{Vec{3,Float64},Float64,Float64,Vec{3,Float64}}([0.0, 0.0, 0.0], 0.0, 0.0, [3.0, 3.0, 3.0]))])                                                                                                                                                                                                                                                                                         \n",
       " RayTrace.ListScene{RayTrace.MaterialGeom{GeometryTypes.HyperSphere{3,Float64},RayTrace.Material{GeometryTypes.Vec{3,Float64},Float64,Float64,GeometryTypes.Vec{3,Float64}}}}(RayTrace.MaterialGeom{GeometryTypes.HyperSphere{3,Float64},RayTrace.Material{GeometryTypes.Vec{3,Float64},Float64,Float64,GeometryTypes.Vec{3,Float64}}}[MaterialGeom{HyperSphere{3,Float64},Material{Vec{3,Float64},Float64,Float64,Vec{3,Float64}}}(HyperSphere{3,Float64}([0.955483, 0.989129, -17.9624], 2.86956), Material{Vec{3,Float64},Float64,Float64,Vec{3,Float64}}([0.792496, 0.617092, 0.47515], 1.0, 0.0, [0.0, 0.0, 0.0])), MaterialGeom{HyperSphere{3,Float64},Material{Vec{3,Float64},Float64,Float64,Vec{3,Float64}}}(HyperSphere{3,Float64}([-3.9009, -0.664968, -25.5857], 4.85936), Material{Vec{3,Float64},Float64,Float64,Vec{3,Float64}}([0.531275, 0.820959, 0.981359], 1.0, 0.0, [0.0, 0.0, 0.0])), MaterialGeom{HyperSphere{3,Float64},Material{Vec{3,Float64},Float64,Float64,Vec{3,Float64}}}(HyperSphere{3,Float64}([2.87525, 0.0546891, -21.1499], 1.61068), Material{Vec{3,Float64},Float64,Float64,Vec{3,Float64}}([0.275759, 0.578135, 0.993127], 1.0, 0.0, [0.0, 0.0, 0.0])), MaterialGeom{HyperSphere{3,Float64},Material{Vec{3,Float64},Float64,Float64,Vec{3,Float64}}}(HyperSphere{3,Float64}([2.67476, -0.909245, -19.181], 3.80132), Material{Vec{3,Float64},Float64,Float64,Vec{3,Float64}}([0.66516, 0.230811, 0.450592], 1.0, 0.0, [0.0, 0.0, 0.0])), MaterialGeom{HyperSphere{3,Float64},Material{Vec{3,Float64},Float64,Float64,Vec{3,Float64}}}(HyperSphere{3,Float64}([5.72308, -0.071894, -28.5044], 3.58115), Material{Vec{3,Float64},Float64,Float64,Vec{3,Float64}}([0.230501, 0.488797, 0.692081], 1.0, 0.0, [0.0, 0.0, 0.0])), MaterialGeom{HyperSphere{3,Float64},Material{Vec{3,Float64},Float64,Float64,Vec{3,Float64}}}(HyperSphere{3,Float64}([0.0, -10004.0, -20.0], 10000.0), Material{Vec{3,Float64},Float64,Float64,Vec{3,Float64}}([0.2, 0.2, 0.2], 0.0, 0.0, [0.0, 0.0, 0.0])), MaterialGeom{HyperSphere{3,Float64},Material{Vec{3,Float64},Float64,Float64,Vec{3,Float64}}}(HyperSphere{3,Float64}([0.0, 20.0, -30.0], 3.0), Material{Vec{3,Float64},Float64,Float64,Vec{3,Float64}}([0.0, 0.0, 0.0], 0.0, 0.0, [3.0, 3.0, 3.0]))])                                                                                                                                                                                                                                                                                         \n",
       " RayTrace.ListScene{RayTrace.MaterialGeom{GeometryTypes.HyperSphere{3,Float64},RayTrace.Material{GeometryTypes.Vec{3,Float64},Float64,Float64,GeometryTypes.Vec{3,Float64}}}}(RayTrace.MaterialGeom{GeometryTypes.HyperSphere{3,Float64},RayTrace.Material{GeometryTypes.Vec{3,Float64},Float64,Float64,GeometryTypes.Vec{3,Float64}}}[MaterialGeom{HyperSphere{3,Float64},Material{Vec{3,Float64},Float64,Float64,Vec{3,Float64}}}(HyperSphere{3,Float64}([0.955483, 0.989129, -17.9624], 2.86956), Material{Vec{3,Float64},Float64,Float64,Vec{3,Float64}}([0.792496, 0.617092, 0.47515], 1.0, 0.0, [0.0, 0.0, 0.0])), MaterialGeom{HyperSphere{3,Float64},Material{Vec{3,Float64},Float64,Float64,Vec{3,Float64}}}(HyperSphere{3,Float64}([-3.9009, -0.664968, -25.5857], 4.85936), Material{Vec{3,Float64},Float64,Float64,Vec{3,Float64}}([0.531275, 0.820959, 0.981359], 1.0, 0.0, [0.0, 0.0, 0.0])), MaterialGeom{HyperSphere{3,Float64},Material{Vec{3,Float64},Float64,Float64,Vec{3,Float64}}}(HyperSphere{3,Float64}([2.87525, 0.0546891, -26.8654], 1.61068), Material{Vec{3,Float64},Float64,Float64,Vec{3,Float64}}([0.275759, 0.578135, 0.993127], 1.0, 0.0, [0.0, 0.0, 0.0])), MaterialGeom{HyperSphere{3,Float64},Material{Vec{3,Float64},Float64,Float64,Vec{3,Float64}}}(HyperSphere{3,Float64}([2.67476, -0.909245, -19.181], 3.80132), Material{Vec{3,Float64},Float64,Float64,Vec{3,Float64}}([0.66516, 0.230811, 0.450592], 1.0, 0.0, [0.0, 0.0, 0.0])), MaterialGeom{HyperSphere{3,Float64},Material{Vec{3,Float64},Float64,Float64,Vec{3,Float64}}}(HyperSphere{3,Float64}([5.72308, -0.071894, -28.5044], 3.58115), Material{Vec{3,Float64},Float64,Float64,Vec{3,Float64}}([0.230501, 0.488797, 0.692081], 1.0, 0.0, [0.0, 0.0, 0.0])), MaterialGeom{HyperSphere{3,Float64},Material{Vec{3,Float64},Float64,Float64,Vec{3,Float64}}}(HyperSphere{3,Float64}([0.0, -10004.0, -20.0], 10000.0), Material{Vec{3,Float64},Float64,Float64,Vec{3,Float64}}([0.2, 0.2, 0.2], 0.0, 0.0, [0.0, 0.0, 0.0])), MaterialGeom{HyperSphere{3,Float64},Material{Vec{3,Float64},Float64,Float64,Vec{3,Float64}}}(HyperSphere{3,Float64}([0.0, 20.0, -30.0], 3.0), Material{Vec{3,Float64},Float64,Float64,Vec{3,Float64}}([0.0, 0.0, 0.0], 0.0, 0.0, [3.0, 3.0, 3.0]))])                                                                                                                                                                                                                                                                                         \n",
       " RayTrace.ListScene{RayTrace.MaterialGeom{GeometryTypes.HyperSphere{3,Float64},RayTrace.Material{GeometryTypes.Vec{3,Float64},Float64,Float64,GeometryTypes.Vec{3,Float64}}}}(RayTrace.MaterialGeom{GeometryTypes.HyperSphere{3,Float64},RayTrace.Material{GeometryTypes.Vec{3,Float64},Float64,Float64,GeometryTypes.Vec{3,Float64}}}[MaterialGeom{HyperSphere{3,Float64},Material{Vec{3,Float64},Float64,Float64,Vec{3,Float64}}}(HyperSphere{3,Float64}([0.955483, 0.989129, -17.9624], 2.86956), Material{Vec{3,Float64},Float64,Float64,Vec{3,Float64}}([0.792496, 0.617092, 0.47515], 1.0, 0.0, [0.0, 0.0, 0.0])), MaterialGeom{HyperSphere{3,Float64},Material{Vec{3,Float64},Float64,Float64,Vec{3,Float64}}}(HyperSphere{3,Float64}([-3.9009, -0.664968, -25.5857], 4.85936), Material{Vec{3,Float64},Float64,Float64,Vec{3,Float64}}([0.531275, 0.820959, 0.981359], 1.0, 0.0, [0.0, 0.0, 0.0])), MaterialGeom{HyperSphere{3,Float64},Material{Vec{3,Float64},Float64,Float64,Vec{3,Float64}}}(HyperSphere{3,Float64}([2.87525, 0.0546891, -26.8654], 1.61068), Material{Vec{3,Float64},Float64,Float64,Vec{3,Float64}}([0.275759, 0.578135, 0.665288], 1.0, 0.0, [0.0, 0.0, 0.0])), MaterialGeom{HyperSphere{3,Float64},Material{Vec{3,Float64},Float64,Float64,Vec{3,Float64}}}(HyperSphere{3,Float64}([2.67476, -0.909245, -19.181], 3.80132), Material{Vec{3,Float64},Float64,Float64,Vec{3,Float64}}([0.66516, 0.230811, 0.450592], 1.0, 0.0, [0.0, 0.0, 0.0])), MaterialGeom{HyperSphere{3,Float64},Material{Vec{3,Float64},Float64,Float64,Vec{3,Float64}}}(HyperSphere{3,Float64}([5.72308, -0.071894, -28.5044], 3.58115), Material{Vec{3,Float64},Float64,Float64,Vec{3,Float64}}([0.230501, 0.488797, 0.692081], 1.0, 0.0, [0.0, 0.0, 0.0])), MaterialGeom{HyperSphere{3,Float64},Material{Vec{3,Float64},Float64,Float64,Vec{3,Float64}}}(HyperSphere{3,Float64}([0.0, -10004.0, -20.0], 10000.0), Material{Vec{3,Float64},Float64,Float64,Vec{3,Float64}}([0.2, 0.2, 0.2], 0.0, 0.0, [0.0, 0.0, 0.0])), MaterialGeom{HyperSphere{3,Float64},Material{Vec{3,Float64},Float64,Float64,Vec{3,Float64}}}(HyperSphere{3,Float64}([0.0, 20.0, -30.0], 3.0), Material{Vec{3,Float64},Float64,Float64,Vec{3,Float64}}([0.0, 0.0, 0.0], 0.0, 0.0, [3.0, 3.0, 3.0]))])                                                                                                                                                                                                                                                                                         \n",
       " RayTrace.ListScene{RayTrace.MaterialGeom{GeometryTypes.HyperSphere{3,Float64},RayTrace.Material{GeometryTypes.Vec{3,Float64},Float64,Float64,GeometryTypes.Vec{3,Float64}}}}(RayTrace.MaterialGeom{GeometryTypes.HyperSphere{3,Float64},RayTrace.Material{GeometryTypes.Vec{3,Float64},Float64,Float64,GeometryTypes.Vec{3,Float64}}}[MaterialGeom{HyperSphere{3,Float64},Material{Vec{3,Float64},Float64,Float64,Vec{3,Float64}}}(HyperSphere{3,Float64}([0.955483, 0.989129, -17.9624], 2.86956), Material{Vec{3,Float64},Float64,Float64,Vec{3,Float64}}([0.792496, 0.617092, 0.47515], 1.0, 0.0, [0.0, 0.0, 0.0])), MaterialGeom{HyperSphere{3,Float64},Material{Vec{3,Float64},Float64,Float64,Vec{3,Float64}}}(HyperSphere{3,Float64}([-3.9009, -0.664968, -25.5857], 4.85936), Material{Vec{3,Float64},Float64,Float64,Vec{3,Float64}}([0.531275, 0.820959, 0.981359], 1.0, 0.0, [0.0, 0.0, 0.0])), MaterialGeom{HyperSphere{3,Float64},Material{Vec{3,Float64},Float64,Float64,Vec{3,Float64}}}(HyperSphere{3,Float64}([2.87525, 0.0546891, -26.8654], 1.61068), Material{Vec{3,Float64},Float64,Float64,Vec{3,Float64}}([0.275759, 0.578135, 0.665288], 1.0, 0.0, [0.0, 0.0, 0.0])), MaterialGeom{HyperSphere{3,Float64},Material{Vec{3,Float64},Float64,Float64,Vec{3,Float64}}}(HyperSphere{3,Float64}([2.67476, -0.909245, -19.181], 3.80132), Material{Vec{3,Float64},Float64,Float64,Vec{3,Float64}}([0.66516, 0.230811, 0.450592], 1.0, 0.0, [0.0, 0.0, 0.0])), MaterialGeom{HyperSphere{3,Float64},Material{Vec{3,Float64},Float64,Float64,Vec{3,Float64}}}(HyperSphere{3,Float64}([5.42548, -0.071894, -28.5044], 3.58115), Material{Vec{3,Float64},Float64,Float64,Vec{3,Float64}}([0.230501, 0.488797, 0.692081], 1.0, 0.0, [0.0, 0.0, 0.0])), MaterialGeom{HyperSphere{3,Float64},Material{Vec{3,Float64},Float64,Float64,Vec{3,Float64}}}(HyperSphere{3,Float64}([0.0, -10004.0, -20.0], 10000.0), Material{Vec{3,Float64},Float64,Float64,Vec{3,Float64}}([0.2, 0.2, 0.2], 0.0, 0.0, [0.0, 0.0, 0.0])), MaterialGeom{HyperSphere{3,Float64},Material{Vec{3,Float64},Float64,Float64,Vec{3,Float64}}}(HyperSphere{3,Float64}([0.0, 20.0, -30.0], 3.0), Material{Vec{3,Float64},Float64,Float64,Vec{3,Float64}}([0.0, 0.0, 0.0], 0.0, 0.0, [3.0, 3.0, 3.0]))])                                                                                                                                                                                                                                                                                         \n",
       " RayTrace.ListScene{RayTrace.MaterialGeom{GeometryTypes.HyperSphere{3,Float64},RayTrace.Material{GeometryTypes.Vec{3,Float64},Float64,Float64,GeometryTypes.Vec{3,Float64}}}}(RayTrace.MaterialGeom{GeometryTypes.HyperSphere{3,Float64},RayTrace.Material{GeometryTypes.Vec{3,Float64},Float64,Float64,GeometryTypes.Vec{3,Float64}}}[MaterialGeom{HyperSphere{3,Float64},Material{Vec{3,Float64},Float64,Float64,Vec{3,Float64}}}(HyperSphere{3,Float64}([0.955483, 0.989129, -17.9624], 2.86956), Material{Vec{3,Float64},Float64,Float64,Vec{3,Float64}}([0.792496, 0.617092, 0.47515], 1.0, 0.0, [0.0, 0.0, 0.0])), MaterialGeom{HyperSphere{3,Float64},Material{Vec{3,Float64},Float64,Float64,Vec{3,Float64}}}(HyperSphere{3,Float64}([-3.9009, -0.664968, -25.5857], 4.85936), Material{Vec{3,Float64},Float64,Float64,Vec{3,Float64}}([0.531275, 0.820959, 0.981359], 1.0, 0.0, [0.0, 0.0, 0.0])), MaterialGeom{HyperSphere{3,Float64},Material{Vec{3,Float64},Float64,Float64,Vec{3,Float64}}}(HyperSphere{3,Float64}([2.87525, 0.0546891, -26.8654], 1.61068), Material{Vec{3,Float64},Float64,Float64,Vec{3,Float64}}([0.275759, 0.578135, 0.665288], 1.0, 0.0, [0.0, 0.0, 0.0])), MaterialGeom{HyperSphere{3,Float64},Material{Vec{3,Float64},Float64,Float64,Vec{3,Float64}}}(HyperSphere{3,Float64}([2.67476, -0.909245, -19.181], 3.80132), Material{Vec{3,Float64},Float64,Float64,Vec{3,Float64}}([0.66516, 0.230811, 0.450592], 1.0, 0.0, [0.0, 0.0, 0.0])), MaterialGeom{HyperSphere{3,Float64},Material{Vec{3,Float64},Float64,Float64,Vec{3,Float64}}}(HyperSphere{3,Float64}([5.42548, 0.667769, -28.5044], 3.58115), Material{Vec{3,Float64},Float64,Float64,Vec{3,Float64}}([0.230501, 0.488797, 0.692081], 1.0, 0.0, [0.0, 0.0, 0.0])), MaterialGeom{HyperSphere{3,Float64},Material{Vec{3,Float64},Float64,Float64,Vec{3,Float64}}}(HyperSphere{3,Float64}([0.0, -10004.0, -20.0], 10000.0), Material{Vec{3,Float64},Float64,Float64,Vec{3,Float64}}([0.2, 0.2, 0.2], 0.0, 0.0, [0.0, 0.0, 0.0])), MaterialGeom{HyperSphere{3,Float64},Material{Vec{3,Float64},Float64,Float64,Vec{3,Float64}}}(HyperSphere{3,Float64}([0.0, 20.0, -30.0], 3.0), Material{Vec{3,Float64},Float64,Float64,Vec{3,Float64}}([0.0, 0.0, 0.0], 0.0, 0.0, [3.0, 3.0, 3.0]))])                                                                                                                                                                                                                                                                                          \n",
       " RayTrace.ListScene{RayTrace.MaterialGeom{GeometryTypes.HyperSphere{3,Float64},RayTrace.Material{GeometryTypes.Vec{3,Float64},Float64,Float64,GeometryTypes.Vec{3,Float64}}}}(RayTrace.MaterialGeom{GeometryTypes.HyperSphere{3,Float64},RayTrace.Material{GeometryTypes.Vec{3,Float64},Float64,Float64,GeometryTypes.Vec{3,Float64}}}[MaterialGeom{HyperSphere{3,Float64},Material{Vec{3,Float64},Float64,Float64,Vec{3,Float64}}}(HyperSphere{3,Float64}([0.955483, 0.989129, -17.9624], 2.86956), Material{Vec{3,Float64},Float64,Float64,Vec{3,Float64}}([0.792496, 0.617092, 0.47515], 1.0, 0.0, [0.0, 0.0, 0.0])), MaterialGeom{HyperSphere{3,Float64},Material{Vec{3,Float64},Float64,Float64,Vec{3,Float64}}}(HyperSphere{3,Float64}([-3.9009, -0.664968, -25.5857], 4.85936), Material{Vec{3,Float64},Float64,Float64,Vec{3,Float64}}([0.531275, 0.820959, 0.981359], 1.0, 0.0, [0.0, 0.0, 0.0])), MaterialGeom{HyperSphere{3,Float64},Material{Vec{3,Float64},Float64,Float64,Vec{3,Float64}}}(HyperSphere{3,Float64}([2.87525, 0.0546891, -26.8654], 1.61068), Material{Vec{3,Float64},Float64,Float64,Vec{3,Float64}}([0.275759, 0.578135, 0.665288], 1.0, 0.0, [0.0, 0.0, 0.0])), MaterialGeom{HyperSphere{3,Float64},Material{Vec{3,Float64},Float64,Float64,Vec{3,Float64}}}(HyperSphere{3,Float64}([2.67476, -0.909245, -19.181], 3.80132), Material{Vec{3,Float64},Float64,Float64,Vec{3,Float64}}([0.66516, 0.230811, 0.450592], 1.0, 0.0, [0.0, 0.0, 0.0])), MaterialGeom{HyperSphere{3,Float64},Material{Vec{3,Float64},Float64,Float64,Vec{3,Float64}}}(HyperSphere{3,Float64}([5.42548, 0.667769, -28.5044], 3.58115), Material{Vec{3,Float64},Float64,Float64,Vec{3,Float64}}([0.230501, 0.488797, 0.692081], 1.0, 0.0, [0.0, 0.0, 0.0])), MaterialGeom{HyperSphere{3,Float64},Material{Vec{3,Float64},Float64,Float64,Vec{3,Float64}}}(HyperSphere{3,Float64}([0.0, -10004.0, -20.0], 10000.0), Material{Vec{3,Float64},Float64,Float64,Vec{3,Float64}}([0.2, 0.2, 0.2], 0.0, 0.0, [0.0, 0.0, 0.0])), MaterialGeom{HyperSphere{3,Float64},Material{Vec{3,Float64},Float64,Float64,Vec{3,Float64}}}(HyperSphere{3,Float64}([0.0, 20.0, -30.0], 3.0), Material{Vec{3,Float64},Float64,Float64,Vec{3,Float64}}([0.0, 0.0, 0.0], 0.0, 0.0, [3.0, 3.0, 3.0]))])                                                                                                                                                                                                                                                                                          \n",
       " ⋮                                                                                                                                                                                                                                                                                                                                                                                                                                                                                                                                                                                                                                                                                                                                                                                                                                                                                                                                                                                                                                                                                                                                                                                                                                                                                                                                                                                                                                                                                                                                                                                                                                                                                                                                                                                                                                                                                                                                                                                                                                                                                                                                                                                                                                                                                                                                                                                                                                                                                                                                                                          \n",
       " RayTrace.ListScene{RayTrace.MaterialGeom{GeometryTypes.HyperSphere{3,Float64},RayTrace.Material{GeometryTypes.Vec{3,Float64},Float64,Float64,GeometryTypes.Vec{3,Float64}}}}(RayTrace.MaterialGeom{GeometryTypes.HyperSphere{3,Float64},RayTrace.Material{GeometryTypes.Vec{3,Float64},Float64,Float64,GeometryTypes.Vec{3,Float64}}}[MaterialGeom{HyperSphere{3,Float64},Material{Vec{3,Float64},Float64,Float64,Vec{3,Float64}}}(HyperSphere{3,Float64}([-5.37977, -0.0199026, -15.7688], 3.31841), Material{Vec{3,Float64},Float64,Float64,Vec{3,Float64}}([0.887755, 0.958503, 0.998687], 1.0, 0.0, [0.0, 0.0, 0.0])), MaterialGeom{HyperSphere{3,Float64},Material{Vec{3,Float64},Float64,Float64,Vec{3,Float64}}}(HyperSphere{3,Float64}([5.23299, 0.0793517, -21.885], 4.6943), Material{Vec{3,Float64},Float64,Float64,Vec{3,Float64}}([0.980193, 0.967685, 0.977688], 1.0, 0.0, [0.0, 0.0, 0.0])), MaterialGeom{HyperSphere{3,Float64},Material{Vec{3,Float64},Float64,Float64,Vec{3,Float64}}}(HyperSphere{3,Float64}([-5.87991, -0.914386, -24.8606], 2.5934), Material{Vec{3,Float64},Float64,Float64,Vec{3,Float64}}([0.691906, 0.0604607, 0.196964], 1.0, 0.0, [0.0, 0.0, 0.0])), MaterialGeom{HyperSphere{3,Float64},Material{Vec{3,Float64},Float64,Float64,Vec{3,Float64}}}(HyperSphere{3,Float64}([-0.632223, -0.743167, -19.181], 3.80132), Material{Vec{3,Float64},Float64,Float64,Vec{3,Float64}}([0.454451, 0.183425, 0.122167], 1.0, 0.0, [0.0, 0.0, 0.0])), MaterialGeom{HyperSphere{3,Float64},Material{Vec{3,Float64},Float64,Float64,Vec{3,Float64}}}(HyperSphere{3,Float64}([-0.326505, 0.897182, -25.8464], 4.26683), Material{Vec{3,Float64},Float64,Float64,Vec{3,Float64}}([0.73967, 0.158574, 0.47551], 1.0, 0.0, [0.0, 0.0, 0.0])), MaterialGeom{HyperSphere{3,Float64},Material{Vec{3,Float64},Float64,Float64,Vec{3,Float64}}}(HyperSphere{3,Float64}([-1.75413, -0.495703, -28.8754], 3.11039), Material{Vec{3,Float64},Float64,Float64,Vec{3,Float64}}([0.331165, 0.790683, 0.504877], 1.0, 0.0, [0.0, 0.0, 0.0])), MaterialGeom{HyperSphere{3,Float64},Material{Vec{3,Float64},Float64,Float64,Vec{3,Float64}}}(HyperSphere{3,Float64}([0.0, -10004.0, -20.0], 10000.0), Material{Vec{3,Float64},Float64,Float64,Vec{3,Float64}}([0.2, 0.2, 0.2], 0.0, 0.0, [0.0, 0.0, 0.0])), MaterialGeom{HyperSphere{3,Float64},Material{Vec{3,Float64},Float64,Float64,Vec{3,Float64}}}(HyperSphere{3,Float64}([0.0, 20.0, -30.0], 3.0), Material{Vec{3,Float64},Float64,Float64,Vec{3,Float64}}([0.0, 0.0, 0.0], 0.0, 0.0, [3.0, 3.0, 3.0]))]) \n",
       " RayTrace.ListScene{RayTrace.MaterialGeom{GeometryTypes.HyperSphere{3,Float64},RayTrace.Material{GeometryTypes.Vec{3,Float64},Float64,Float64,GeometryTypes.Vec{3,Float64}}}}(RayTrace.MaterialGeom{GeometryTypes.HyperSphere{3,Float64},RayTrace.Material{GeometryTypes.Vec{3,Float64},Float64,Float64,GeometryTypes.Vec{3,Float64}}}[MaterialGeom{HyperSphere{3,Float64},Material{Vec{3,Float64},Float64,Float64,Vec{3,Float64}}}(HyperSphere{3,Float64}([-5.37977, -0.0199026, -15.7688], 3.31841), Material{Vec{3,Float64},Float64,Float64,Vec{3,Float64}}([0.887755, 0.958503, 0.998687], 1.0, 0.0, [0.0, 0.0, 0.0])), MaterialGeom{HyperSphere{3,Float64},Material{Vec{3,Float64},Float64,Float64,Vec{3,Float64}}}(HyperSphere{3,Float64}([5.23299, 0.0793517, -21.885], 4.6943), Material{Vec{3,Float64},Float64,Float64,Vec{3,Float64}}([0.980193, 0.967685, 0.977688], 1.0, 0.0, [0.0, 0.0, 0.0])), MaterialGeom{HyperSphere{3,Float64},Material{Vec{3,Float64},Float64,Float64,Vec{3,Float64}}}(HyperSphere{3,Float64}([-5.87991, -0.914386, -24.8606], 2.5934), Material{Vec{3,Float64},Float64,Float64,Vec{3,Float64}}([0.691906, 0.0604607, 0.196964], 1.0, 0.0, [0.0, 0.0, 0.0])), MaterialGeom{HyperSphere{3,Float64},Material{Vec{3,Float64},Float64,Float64,Vec{3,Float64}}}(HyperSphere{3,Float64}([-0.632223, -0.743167, -19.181], 3.80132), Material{Vec{3,Float64},Float64,Float64,Vec{3,Float64}}([0.454451, 0.183425, 0.122167], 1.0, 0.0, [0.0, 0.0, 0.0])), MaterialGeom{HyperSphere{3,Float64},Material{Vec{3,Float64},Float64,Float64,Vec{3,Float64}}}(HyperSphere{3,Float64}([-0.326505, 0.897182, -25.8464], 4.26683), Material{Vec{3,Float64},Float64,Float64,Vec{3,Float64}}([0.73967, 0.158574, 0.47551], 1.0, 0.0, [0.0, 0.0, 0.0])), MaterialGeom{HyperSphere{3,Float64},Material{Vec{3,Float64},Float64,Float64,Vec{3,Float64}}}(HyperSphere{3,Float64}([-1.75413, -0.495703, -28.8754], 3.11039), Material{Vec{3,Float64},Float64,Float64,Vec{3,Float64}}([0.331165, 0.790683, 0.504877], 1.0, 0.0, [0.0, 0.0, 0.0])), MaterialGeom{HyperSphere{3,Float64},Material{Vec{3,Float64},Float64,Float64,Vec{3,Float64}}}(HyperSphere{3,Float64}([0.0, -10004.0, -20.0], 10000.0), Material{Vec{3,Float64},Float64,Float64,Vec{3,Float64}}([0.2, 0.2, 0.2], 0.0, 0.0, [0.0, 0.0, 0.0])), MaterialGeom{HyperSphere{3,Float64},Material{Vec{3,Float64},Float64,Float64,Vec{3,Float64}}}(HyperSphere{3,Float64}([0.0, 20.0, -30.0], 3.0), Material{Vec{3,Float64},Float64,Float64,Vec{3,Float64}}([0.0, 0.0, 0.0], 0.0, 0.0, [3.0, 3.0, 3.0]))]) \n",
       " RayTrace.ListScene{RayTrace.MaterialGeom{GeometryTypes.HyperSphere{3,Float64},RayTrace.Material{GeometryTypes.Vec{3,Float64},Float64,Float64,GeometryTypes.Vec{3,Float64}}}}(RayTrace.MaterialGeom{GeometryTypes.HyperSphere{3,Float64},RayTrace.Material{GeometryTypes.Vec{3,Float64},Float64,Float64,GeometryTypes.Vec{3,Float64}}}[MaterialGeom{HyperSphere{3,Float64},Material{Vec{3,Float64},Float64,Float64,Vec{3,Float64}}}(HyperSphere{3,Float64}([-5.37977, -0.0199026, -15.7688], 3.31841), Material{Vec{3,Float64},Float64,Float64,Vec{3,Float64}}([0.887755, 0.958503, 0.998687], 1.0, 0.0, [0.0, 0.0, 0.0])), MaterialGeom{HyperSphere{3,Float64},Material{Vec{3,Float64},Float64,Float64,Vec{3,Float64}}}(HyperSphere{3,Float64}([5.23299, 0.0793517, -21.885], 4.6943), Material{Vec{3,Float64},Float64,Float64,Vec{3,Float64}}([0.980193, 0.967685, 0.977688], 1.0, 0.0, [0.0, 0.0, 0.0])), MaterialGeom{HyperSphere{3,Float64},Material{Vec{3,Float64},Float64,Float64,Vec{3,Float64}}}(HyperSphere{3,Float64}([-5.87991, -0.914386, -24.8606], 2.5934), Material{Vec{3,Float64},Float64,Float64,Vec{3,Float64}}([0.691906, 0.0604607, 0.196964], 1.0, 0.0, [0.0, 0.0, 0.0])), MaterialGeom{HyperSphere{3,Float64},Material{Vec{3,Float64},Float64,Float64,Vec{3,Float64}}}(HyperSphere{3,Float64}([-0.632223, -0.743167, -19.181], 3.80132), Material{Vec{3,Float64},Float64,Float64,Vec{3,Float64}}([0.454451, 0.183425, 0.122167], 1.0, 0.0, [0.0, 0.0, 0.0])), MaterialGeom{HyperSphere{3,Float64},Material{Vec{3,Float64},Float64,Float64,Vec{3,Float64}}}(HyperSphere{3,Float64}([-0.326505, 0.897182, -25.8464], 4.26683), Material{Vec{3,Float64},Float64,Float64,Vec{3,Float64}}([0.73967, 0.158574, 0.47551], 1.0, 0.0, [0.0, 0.0, 0.0])), MaterialGeom{HyperSphere{3,Float64},Material{Vec{3,Float64},Float64,Float64,Vec{3,Float64}}}(HyperSphere{3,Float64}([-1.75413, -0.495703, -28.8754], 3.11039), Material{Vec{3,Float64},Float64,Float64,Vec{3,Float64}}([0.331165, 0.790683, 0.504877], 1.0, 0.0, [0.0, 0.0, 0.0])), MaterialGeom{HyperSphere{3,Float64},Material{Vec{3,Float64},Float64,Float64,Vec{3,Float64}}}(HyperSphere{3,Float64}([0.0, -10004.0, -20.0], 10000.0), Material{Vec{3,Float64},Float64,Float64,Vec{3,Float64}}([0.2, 0.2, 0.2], 0.0, 0.0, [0.0, 0.0, 0.0])), MaterialGeom{HyperSphere{3,Float64},Material{Vec{3,Float64},Float64,Float64,Vec{3,Float64}}}(HyperSphere{3,Float64}([0.0, 20.0, -30.0], 3.0), Material{Vec{3,Float64},Float64,Float64,Vec{3,Float64}}([0.0, 0.0, 0.0], 0.0, 0.0, [3.0, 3.0, 3.0]))]) \n",
       " RayTrace.ListScene{RayTrace.MaterialGeom{GeometryTypes.HyperSphere{3,Float64},RayTrace.Material{GeometryTypes.Vec{3,Float64},Float64,Float64,GeometryTypes.Vec{3,Float64}}}}(RayTrace.MaterialGeom{GeometryTypes.HyperSphere{3,Float64},RayTrace.Material{GeometryTypes.Vec{3,Float64},Float64,Float64,GeometryTypes.Vec{3,Float64}}}[MaterialGeom{HyperSphere{3,Float64},Material{Vec{3,Float64},Float64,Float64,Vec{3,Float64}}}(HyperSphere{3,Float64}([-5.37977, -0.0199026, -15.7688], 3.31841), Material{Vec{3,Float64},Float64,Float64,Vec{3,Float64}}([0.887755, 0.958503, 0.998687], 1.0, 0.0, [0.0, 0.0, 0.0])), MaterialGeom{HyperSphere{3,Float64},Material{Vec{3,Float64},Float64,Float64,Vec{3,Float64}}}(HyperSphere{3,Float64}([5.23299, 0.0793517, -21.885], 4.6943), Material{Vec{3,Float64},Float64,Float64,Vec{3,Float64}}([0.980193, 0.967685, 0.977688], 1.0, 0.0, [0.0, 0.0, 0.0])), MaterialGeom{HyperSphere{3,Float64},Material{Vec{3,Float64},Float64,Float64,Vec{3,Float64}}}(HyperSphere{3,Float64}([-5.87991, -0.914386, -24.8606], 2.5934), Material{Vec{3,Float64},Float64,Float64,Vec{3,Float64}}([0.691906, 0.0604607, 0.196964], 1.0, 0.0, [0.0, 0.0, 0.0])), MaterialGeom{HyperSphere{3,Float64},Material{Vec{3,Float64},Float64,Float64,Vec{3,Float64}}}(HyperSphere{3,Float64}([-0.632223, -0.743167, -19.181], 3.80132), Material{Vec{3,Float64},Float64,Float64,Vec{3,Float64}}([0.454451, 0.183425, 0.122167], 1.0, 0.0, [0.0, 0.0, 0.0])), MaterialGeom{HyperSphere{3,Float64},Material{Vec{3,Float64},Float64,Float64,Vec{3,Float64}}}(HyperSphere{3,Float64}([-0.326505, 0.897182, -25.8464], 4.26683), Material{Vec{3,Float64},Float64,Float64,Vec{3,Float64}}([0.73967, 0.158574, 0.47551], 1.0, 0.0, [0.0, 0.0, 0.0])), MaterialGeom{HyperSphere{3,Float64},Material{Vec{3,Float64},Float64,Float64,Vec{3,Float64}}}(HyperSphere{3,Float64}([-1.75413, -0.495703, -28.8754], 3.11039), Material{Vec{3,Float64},Float64,Float64,Vec{3,Float64}}([0.331165, 0.916181, 0.504877], 1.0, 0.0, [0.0, 0.0, 0.0])), MaterialGeom{HyperSphere{3,Float64},Material{Vec{3,Float64},Float64,Float64,Vec{3,Float64}}}(HyperSphere{3,Float64}([0.0, -10004.0, -20.0], 10000.0), Material{Vec{3,Float64},Float64,Float64,Vec{3,Float64}}([0.2, 0.2, 0.2], 0.0, 0.0, [0.0, 0.0, 0.0])), MaterialGeom{HyperSphere{3,Float64},Material{Vec{3,Float64},Float64,Float64,Vec{3,Float64}}}(HyperSphere{3,Float64}([0.0, 20.0, -30.0], 3.0), Material{Vec{3,Float64},Float64,Float64,Vec{3,Float64}}([0.0, 0.0, 0.0], 0.0, 0.0, [3.0, 3.0, 3.0]))]) \n",
       " RayTrace.ListScene{RayTrace.MaterialGeom{GeometryTypes.HyperSphere{3,Float64},RayTrace.Material{GeometryTypes.Vec{3,Float64},Float64,Float64,GeometryTypes.Vec{3,Float64}}}}(RayTrace.MaterialGeom{GeometryTypes.HyperSphere{3,Float64},RayTrace.Material{GeometryTypes.Vec{3,Float64},Float64,Float64,GeometryTypes.Vec{3,Float64}}}[MaterialGeom{HyperSphere{3,Float64},Material{Vec{3,Float64},Float64,Float64,Vec{3,Float64}}}(HyperSphere{3,Float64}([-5.37977, -0.0199026, -15.7688], 3.31841), Material{Vec{3,Float64},Float64,Float64,Vec{3,Float64}}([0.887755, 0.958503, 0.998687], 1.0, 0.0, [0.0, 0.0, 0.0])), MaterialGeom{HyperSphere{3,Float64},Material{Vec{3,Float64},Float64,Float64,Vec{3,Float64}}}(HyperSphere{3,Float64}([5.23299, 0.0793517, -21.885], 4.6943), Material{Vec{3,Float64},Float64,Float64,Vec{3,Float64}}([0.980193, 0.967685, 0.977688], 1.0, 0.0, [0.0, 0.0, 0.0])), MaterialGeom{HyperSphere{3,Float64},Material{Vec{3,Float64},Float64,Float64,Vec{3,Float64}}}(HyperSphere{3,Float64}([-5.87991, -0.914386, -24.8606], 2.5934), Material{Vec{3,Float64},Float64,Float64,Vec{3,Float64}}([0.691906, 0.0604607, 0.196964], 1.0, 0.0, [0.0, 0.0, 0.0])), MaterialGeom{HyperSphere{3,Float64},Material{Vec{3,Float64},Float64,Float64,Vec{3,Float64}}}(HyperSphere{3,Float64}([-0.632223, -0.743167, -19.181], 3.80132), Material{Vec{3,Float64},Float64,Float64,Vec{3,Float64}}([0.454451, 0.183425, 0.122167], 1.0, 0.0, [0.0, 0.0, 0.0])), MaterialGeom{HyperSphere{3,Float64},Material{Vec{3,Float64},Float64,Float64,Vec{3,Float64}}}(HyperSphere{3,Float64}([-0.326505, 0.897182, -25.8464], 4.26683), Material{Vec{3,Float64},Float64,Float64,Vec{3,Float64}}([0.73967, 0.158574, 0.47551], 1.0, 0.0, [0.0, 0.0, 0.0])), MaterialGeom{HyperSphere{3,Float64},Material{Vec{3,Float64},Float64,Float64,Vec{3,Float64}}}(HyperSphere{3,Float64}([-1.75413, -0.495703, -28.8754], 3.11039), Material{Vec{3,Float64},Float64,Float64,Vec{3,Float64}}([0.331165, 0.916181, 0.504877], 1.0, 0.0, [0.0, 0.0, 0.0])), MaterialGeom{HyperSphere{3,Float64},Material{Vec{3,Float64},Float64,Float64,Vec{3,Float64}}}(HyperSphere{3,Float64}([0.0, -10004.0, -20.0], 10000.0), Material{Vec{3,Float64},Float64,Float64,Vec{3,Float64}}([0.2, 0.2, 0.2], 0.0, 0.0, [0.0, 0.0, 0.0])), MaterialGeom{HyperSphere{3,Float64},Material{Vec{3,Float64},Float64,Float64,Vec{3,Float64}}}(HyperSphere{3,Float64}([0.0, 20.0, -30.0], 3.0), Material{Vec{3,Float64},Float64,Float64,Vec{3,Float64}}([0.0, 0.0, 0.0], 0.0, 0.0, [3.0, 3.0, 3.0]))]) \n",
       " RayTrace.ListScene{RayTrace.MaterialGeom{GeometryTypes.HyperSphere{3,Float64},RayTrace.Material{GeometryTypes.Vec{3,Float64},Float64,Float64,GeometryTypes.Vec{3,Float64}}}}(RayTrace.MaterialGeom{GeometryTypes.HyperSphere{3,Float64},RayTrace.Material{GeometryTypes.Vec{3,Float64},Float64,Float64,GeometryTypes.Vec{3,Float64}}}[MaterialGeom{HyperSphere{3,Float64},Material{Vec{3,Float64},Float64,Float64,Vec{3,Float64}}}(HyperSphere{3,Float64}([-5.37977, -0.0199026, -15.7688], 3.31841), Material{Vec{3,Float64},Float64,Float64,Vec{3,Float64}}([0.887755, 0.958503, 0.998687], 1.0, 0.0, [0.0, 0.0, 0.0])), MaterialGeom{HyperSphere{3,Float64},Material{Vec{3,Float64},Float64,Float64,Vec{3,Float64}}}(HyperSphere{3,Float64}([5.23299, 0.0793517, -21.885], 4.6943), Material{Vec{3,Float64},Float64,Float64,Vec{3,Float64}}([0.980193, 0.967685, 0.977688], 1.0, 0.0, [0.0, 0.0, 0.0])), MaterialGeom{HyperSphere{3,Float64},Material{Vec{3,Float64},Float64,Float64,Vec{3,Float64}}}(HyperSphere{3,Float64}([-5.87991, -0.914386, -24.8606], 2.5934), Material{Vec{3,Float64},Float64,Float64,Vec{3,Float64}}([0.691906, 0.0604607, 0.196964], 1.0, 0.0, [0.0, 0.0, 0.0])), MaterialGeom{HyperSphere{3,Float64},Material{Vec{3,Float64},Float64,Float64,Vec{3,Float64}}}(HyperSphere{3,Float64}([-0.632223, -0.743167, -19.181], 3.80132), Material{Vec{3,Float64},Float64,Float64,Vec{3,Float64}}([0.454451, 0.183425, 0.122167], 1.0, 0.0, [0.0, 0.0, 0.0])), MaterialGeom{HyperSphere{3,Float64},Material{Vec{3,Float64},Float64,Float64,Vec{3,Float64}}}(HyperSphere{3,Float64}([-0.326505, 0.897182, -25.8464], 4.26683), Material{Vec{3,Float64},Float64,Float64,Vec{3,Float64}}([0.73967, 0.158574, 0.47551], 1.0, 0.0, [0.0, 0.0, 0.0])), MaterialGeom{HyperSphere{3,Float64},Material{Vec{3,Float64},Float64,Float64,Vec{3,Float64}}}(HyperSphere{3,Float64}([-1.75413, -0.495703, -28.8754], 3.11039), Material{Vec{3,Float64},Float64,Float64,Vec{3,Float64}}([0.331165, 0.916181, 0.504877], 1.0, 0.0, [0.0, 0.0, 0.0])), MaterialGeom{HyperSphere{3,Float64},Material{Vec{3,Float64},Float64,Float64,Vec{3,Float64}}}(HyperSphere{3,Float64}([0.0, -10004.0, -20.0], 10000.0), Material{Vec{3,Float64},Float64,Float64,Vec{3,Float64}}([0.2, 0.2, 0.2], 0.0, 0.0, [0.0, 0.0, 0.0])), MaterialGeom{HyperSphere{3,Float64},Material{Vec{3,Float64},Float64,Float64,Vec{3,Float64}}}(HyperSphere{3,Float64}([0.0, 20.0, -30.0], 3.0), Material{Vec{3,Float64},Float64,Float64,Vec{3,Float64}}([0.0, 0.0, 0.0], 0.0, 0.0, [3.0, 3.0, 3.0]))]) \n",
       " RayTrace.ListScene{RayTrace.MaterialGeom{GeometryTypes.HyperSphere{3,Float64},RayTrace.Material{GeometryTypes.Vec{3,Float64},Float64,Float64,GeometryTypes.Vec{3,Float64}}}}(RayTrace.MaterialGeom{GeometryTypes.HyperSphere{3,Float64},RayTrace.Material{GeometryTypes.Vec{3,Float64},Float64,Float64,GeometryTypes.Vec{3,Float64}}}[MaterialGeom{HyperSphere{3,Float64},Material{Vec{3,Float64},Float64,Float64,Vec{3,Float64}}}(HyperSphere{3,Float64}([-5.37977, -0.0199026, -15.7688], 3.31841), Material{Vec{3,Float64},Float64,Float64,Vec{3,Float64}}([0.887755, 0.958503, 0.998687], 1.0, 0.0, [0.0, 0.0, 0.0])), MaterialGeom{HyperSphere{3,Float64},Material{Vec{3,Float64},Float64,Float64,Vec{3,Float64}}}(HyperSphere{3,Float64}([5.23299, 0.0793517, -21.885], 4.6943), Material{Vec{3,Float64},Float64,Float64,Vec{3,Float64}}([0.980193, 0.967685, 0.977688], 1.0, 0.0, [0.0, 0.0, 0.0])), MaterialGeom{HyperSphere{3,Float64},Material{Vec{3,Float64},Float64,Float64,Vec{3,Float64}}}(HyperSphere{3,Float64}([-5.87991, -0.914386, -24.8606], 2.5934), Material{Vec{3,Float64},Float64,Float64,Vec{3,Float64}}([0.691906, 0.0604607, 0.196964], 1.0, 0.0, [0.0, 0.0, 0.0])), MaterialGeom{HyperSphere{3,Float64},Material{Vec{3,Float64},Float64,Float64,Vec{3,Float64}}}(HyperSphere{3,Float64}([-0.632223, -0.743167, -19.181], 3.80132), Material{Vec{3,Float64},Float64,Float64,Vec{3,Float64}}([0.454451, 0.183425, 0.122167], 1.0, 0.0, [0.0, 0.0, 0.0])), MaterialGeom{HyperSphere{3,Float64},Material{Vec{3,Float64},Float64,Float64,Vec{3,Float64}}}(HyperSphere{3,Float64}([-0.326505, 0.897182, -25.8464], 4.26683), Material{Vec{3,Float64},Float64,Float64,Vec{3,Float64}}([0.844971, 0.158574, 0.47551], 1.0, 0.0, [0.0, 0.0, 0.0])), MaterialGeom{HyperSphere{3,Float64},Material{Vec{3,Float64},Float64,Float64,Vec{3,Float64}}}(HyperSphere{3,Float64}([-1.75413, -0.495703, -28.8754], 3.11039), Material{Vec{3,Float64},Float64,Float64,Vec{3,Float64}}([0.331165, 0.916181, 0.504877], 1.0, 0.0, [0.0, 0.0, 0.0])), MaterialGeom{HyperSphere{3,Float64},Material{Vec{3,Float64},Float64,Float64,Vec{3,Float64}}}(HyperSphere{3,Float64}([0.0, -10004.0, -20.0], 10000.0), Material{Vec{3,Float64},Float64,Float64,Vec{3,Float64}}([0.2, 0.2, 0.2], 0.0, 0.0, [0.0, 0.0, 0.0])), MaterialGeom{HyperSphere{3,Float64},Material{Vec{3,Float64},Float64,Float64,Vec{3,Float64}}}(HyperSphere{3,Float64}([0.0, 20.0, -30.0], 3.0), Material{Vec{3,Float64},Float64,Float64,Vec{3,Float64}}([0.0, 0.0, 0.0], 0.0, 0.0, [3.0, 3.0, 3.0]))])\n",
       " RayTrace.ListScene{RayTrace.MaterialGeom{GeometryTypes.HyperSphere{3,Float64},RayTrace.Material{GeometryTypes.Vec{3,Float64},Float64,Float64,GeometryTypes.Vec{3,Float64}}}}(RayTrace.MaterialGeom{GeometryTypes.HyperSphere{3,Float64},RayTrace.Material{GeometryTypes.Vec{3,Float64},Float64,Float64,GeometryTypes.Vec{3,Float64}}}[MaterialGeom{HyperSphere{3,Float64},Material{Vec{3,Float64},Float64,Float64,Vec{3,Float64}}}(HyperSphere{3,Float64}([-5.37977, -0.0199026, -15.7688], 3.31841), Material{Vec{3,Float64},Float64,Float64,Vec{3,Float64}}([0.887755, 0.958503, 0.998687], 1.0, 0.0, [0.0, 0.0, 0.0])), MaterialGeom{HyperSphere{3,Float64},Material{Vec{3,Float64},Float64,Float64,Vec{3,Float64}}}(HyperSphere{3,Float64}([5.23299, 0.0793517, -21.885], 4.6943), Material{Vec{3,Float64},Float64,Float64,Vec{3,Float64}}([0.980193, 0.967685, 0.977688], 1.0, 0.0, [0.0, 0.0, 0.0])), MaterialGeom{HyperSphere{3,Float64},Material{Vec{3,Float64},Float64,Float64,Vec{3,Float64}}}(HyperSphere{3,Float64}([-5.87991, -0.914386, -24.8606], 2.5934), Material{Vec{3,Float64},Float64,Float64,Vec{3,Float64}}([0.691906, 0.0604607, 0.196964], 1.0, 0.0, [0.0, 0.0, 0.0])), MaterialGeom{HyperSphere{3,Float64},Material{Vec{3,Float64},Float64,Float64,Vec{3,Float64}}}(HyperSphere{3,Float64}([-0.632223, -0.743167, -19.181], 3.80132), Material{Vec{3,Float64},Float64,Float64,Vec{3,Float64}}([0.454451, 0.183425, 0.122167], 1.0, 0.0, [0.0, 0.0, 0.0])), MaterialGeom{HyperSphere{3,Float64},Material{Vec{3,Float64},Float64,Float64,Vec{3,Float64}}}(HyperSphere{3,Float64}([-0.326505, 0.897182, -25.8464], 4.26683), Material{Vec{3,Float64},Float64,Float64,Vec{3,Float64}}([0.844971, 0.158574, 0.47551], 1.0, 0.0, [0.0, 0.0, 0.0])), MaterialGeom{HyperSphere{3,Float64},Material{Vec{3,Float64},Float64,Float64,Vec{3,Float64}}}(HyperSphere{3,Float64}([-1.75413, -0.495703, -28.8754], 3.11039), Material{Vec{3,Float64},Float64,Float64,Vec{3,Float64}}([0.331165, 0.916181, 0.504877], 1.0, 0.0, [0.0, 0.0, 0.0])), MaterialGeom{HyperSphere{3,Float64},Material{Vec{3,Float64},Float64,Float64,Vec{3,Float64}}}(HyperSphere{3,Float64}([0.0, -10004.0, -20.0], 10000.0), Material{Vec{3,Float64},Float64,Float64,Vec{3,Float64}}([0.2, 0.2, 0.2], 0.0, 0.0, [0.0, 0.0, 0.0])), MaterialGeom{HyperSphere{3,Float64},Material{Vec{3,Float64},Float64,Float64,Vec{3,Float64}}}(HyperSphere{3,Float64}([0.0, 20.0, -30.0], 3.0), Material{Vec{3,Float64},Float64,Float64,Vec{3,Float64}}([0.0, 0.0, 0.0], 0.0, 0.0, [3.0, 3.0, 3.0]))])\n",
       " RayTrace.ListScene{RayTrace.MaterialGeom{GeometryTypes.HyperSphere{3,Float64},RayTrace.Material{GeometryTypes.Vec{3,Float64},Float64,Float64,GeometryTypes.Vec{3,Float64}}}}(RayTrace.MaterialGeom{GeometryTypes.HyperSphere{3,Float64},RayTrace.Material{GeometryTypes.Vec{3,Float64},Float64,Float64,GeometryTypes.Vec{3,Float64}}}[MaterialGeom{HyperSphere{3,Float64},Material{Vec{3,Float64},Float64,Float64,Vec{3,Float64}}}(HyperSphere{3,Float64}([-5.37977, -0.0199026, -15.7688], 3.31841), Material{Vec{3,Float64},Float64,Float64,Vec{3,Float64}}([0.887755, 0.958503, 0.998687], 1.0, 0.0, [0.0, 0.0, 0.0])), MaterialGeom{HyperSphere{3,Float64},Material{Vec{3,Float64},Float64,Float64,Vec{3,Float64}}}(HyperSphere{3,Float64}([5.23299, 0.0793517, -21.885], 4.6943), Material{Vec{3,Float64},Float64,Float64,Vec{3,Float64}}([0.980193, 0.967685, 0.977688], 1.0, 0.0, [0.0, 0.0, 0.0])), MaterialGeom{HyperSphere{3,Float64},Material{Vec{3,Float64},Float64,Float64,Vec{3,Float64}}}(HyperSphere{3,Float64}([-5.87991, -0.914386, -24.8606], 2.5934), Material{Vec{3,Float64},Float64,Float64,Vec{3,Float64}}([0.691906, 0.0604607, 0.196964], 1.0, 0.0, [0.0, 0.0, 0.0])), MaterialGeom{HyperSphere{3,Float64},Material{Vec{3,Float64},Float64,Float64,Vec{3,Float64}}}(HyperSphere{3,Float64}([-0.632223, -0.743167, -19.181], 3.80132), Material{Vec{3,Float64},Float64,Float64,Vec{3,Float64}}([0.454451, 0.183425, 0.122167], 1.0, 0.0, [0.0, 0.0, 0.0])), MaterialGeom{HyperSphere{3,Float64},Material{Vec{3,Float64},Float64,Float64,Vec{3,Float64}}}(HyperSphere{3,Float64}([-0.326505, 0.897182, -25.8464], 4.26683), Material{Vec{3,Float64},Float64,Float64,Vec{3,Float64}}([0.844971, 0.158574, 0.47551], 1.0, 0.0, [0.0, 0.0, 0.0])), MaterialGeom{HyperSphere{3,Float64},Material{Vec{3,Float64},Float64,Float64,Vec{3,Float64}}}(HyperSphere{3,Float64}([-1.75413, -0.495703, -28.8754], 3.11039), Material{Vec{3,Float64},Float64,Float64,Vec{3,Float64}}([0.331165, 0.916181, 0.504877], 1.0, 0.0, [0.0, 0.0, 0.0])), MaterialGeom{HyperSphere{3,Float64},Material{Vec{3,Float64},Float64,Float64,Vec{3,Float64}}}(HyperSphere{3,Float64}([0.0, -10004.0, -20.0], 10000.0), Material{Vec{3,Float64},Float64,Float64,Vec{3,Float64}}([0.2, 0.2, 0.2], 0.0, 0.0, [0.0, 0.0, 0.0])), MaterialGeom{HyperSphere{3,Float64},Material{Vec{3,Float64},Float64,Float64,Vec{3,Float64}}}(HyperSphere{3,Float64}([0.0, 20.0, -30.0], 3.0), Material{Vec{3,Float64},Float64,Float64,Vec{3,Float64}}([0.0, 0.0, 0.0], 0.0, 0.0, [3.0, 3.0, 3.0]))])"
      ]
     },
     "execution_count": 3,
     "metadata": {},
     "output_type": "execute_result"
    }
   ],
   "source": [
    "samples = generatedata()"
   ]
  },
  {
   "cell_type": "markdown",
   "metadata": {},
   "source": [
    "Visualize a single sample from the posterior"
   ]
  },
  {
   "cell_type": "code",
   "execution_count": 4,
   "metadata": {},
   "outputs": [
    {
     "data": {
      "text/plain": [
       "Dict{String,Any} with 4 entries:\n",
       "  \"gui\"         => Dict{String,Any}(\"window\"=>GtkWindowLeaf(name=\"\", parent, wi…\n",
       "  \"roi\"         => Dict{String,Any}(\"redraw\"=>100: \"map(clim-mapped image, inpu…\n",
       "  \"annotations\" => 53: \"input-14\" = Dict{UInt64,Any}() Dict{UInt64,Any} \n",
       "  \"clim\"        => 52: \"CLim\" = CLim{RGB{Float64}}(RGB{Float64}(0.0,0.0,0.0), R…"
      ]
     },
     "execution_count": 4,
     "metadata": {},
     "output_type": "execute_result"
    }
   ],
   "source": [
    "ls = samples[end]\n",
    "ImageView.imshow(highresrender(ls))"
   ]
  },
  {
   "cell_type": "markdown",
   "metadata": {},
   "source": [
    "From a copy of the scene take a single object, Remove object with id gid from scene"
   ]
  },
  {
   "cell_type": "code",
   "execution_count": 5,
   "metadata": {},
   "outputs": [
    {
     "data": {
      "text/plain": [
       "RayTrace.MaterialGeom{GeometryTypes.HyperSphere{3,Float64},RayTrace.Material{GeometryTypes.Vec{3,Float64},Float64,Float64,GeometryTypes.Vec{3,Float64}}}(GeometryTypes.HyperSphere{3,Float64}([-5.37977, -0.0199026, -15.7688], 3.318411805510535), RayTrace.Material{GeometryTypes.Vec{3,Float64},Float64,Float64,GeometryTypes.Vec{3,Float64}}([0.887755, 0.958503, 0.998687], 1.0, 0.0, [0.0, 0.0, 0.0]))"
      ]
     },
     "execution_count": 5,
     "metadata": {},
     "output_type": "execute_result"
    }
   ],
   "source": [
    "ls2 = deepcopy(ls)\n",
    "gid = 1\n",
    "ls3 = RayTrace.ListScene([g for (i, g) in enumerate(ls2.geoms) if i!=gid])\n",
    "\n",
    "k = ls.geoms[gid]"
   ]
  },
  {
   "cell_type": "markdown",
   "metadata": {},
   "source": [
    "We will add a white ball into the scene inside of k"
   ]
  },
  {
   "cell_type": "markdown",
   "metadata": {},
   "source": [
    "Define the material colour white"
   ]
  },
  {
   "cell_type": "code",
   "execution_count": 6,
   "metadata": {},
   "outputs": [
    {
     "data": {
      "text/plain": [
       "RayTrace.Material{GeometryTypes.Vec{3,Float64},Float64,Float64,GeometryTypes.Vec{3,Float64}}([1.0, 1.0, 0.0], 0.5, 0.0, [0.0, 0.0, 0.0])"
      ]
     },
     "execution_count": 6,
     "metadata": {},
     "output_type": "execute_result"
    }
   ],
   "source": [
    "white = RayTrace.Material(Vec3(1.0, 1.0, 0.0), 0.5, 0.0, Vec3(0.0, 0.0, 0.0))"
   ]
  },
  {
   "cell_type": "markdown",
   "metadata": {},
   "source": [
    "Create a new white sphere `mg` at position of `k` but a fraction `frac` of the size"
   ]
  },
  {
   "cell_type": "code",
   "execution_count": 7,
   "metadata": {},
   "outputs": [
    {
     "data": {
      "text/plain": [
       "RayTrace.MaterialGeom{GeometryTypes.HyperSphere{3,Float64},RayTrace.Material{GeometryTypes.Vec{3,Float64},Float64,Float64,GeometryTypes.Vec{3,Float64}}}(GeometryTypes.HyperSphere{3,Float64}([-5.37977, -0.0199026, -15.7688], 2.654729444408428), RayTrace.Material{GeometryTypes.Vec{3,Float64},Float64,Float64,GeometryTypes.Vec{3,Float64}}([1.0, 1.0, 0.0], 0.5, 0.0, [0.0, 0.0, 0.0]))"
      ]
     },
     "execution_count": 7,
     "metadata": {},
     "output_type": "execute_result"
    }
   ],
   "source": [
    "frac = 0.8\n",
    "mg = RayTrace.MaterialGeom(Sphere(k.center, k.r*frac), white)"
   ]
  },
  {
   "cell_type": "markdown",
   "metadata": {},
   "source": [
    "Add the new sphere to the scene"
   ]
  },
  {
   "cell_type": "code",
   "execution_count": 8,
   "metadata": {},
   "outputs": [
    {
     "data": {
      "text/plain": [
       "9-element Array{Bool,1}:\n",
       "  true\n",
       "  true\n",
       " false\n",
       "  true\n",
       "  true\n",
       " false\n",
       "  true\n",
       " false\n",
       " false"
      ]
     },
     "execution_count": 8,
     "metadata": {},
     "output_type": "execute_result"
    }
   ],
   "source": [
    "push!(ls2.geoms, mg)\n",
    "\n",
    "\"For each element in scene determine if it can be seen\"\n",
    "canseein(scene) = [Bool(CanSee.cansee(scene, scene.geoms[i])) for i = 1:length(scene.geoms)]\n",
    "\n",
    "canseein(ls2)"
   ]
  },
  {
   "cell_type": "markdown",
   "metadata": {},
   "source": [
    "### 2. Actual Causality"
   ]
  },
  {
   "cell_type": "markdown",
   "metadata": {},
   "source": [
    "Is fact that object a is where it is,  reason we can't see object b?"
   ]
  },
  {
   "cell_type": "code",
   "execution_count": 9,
   "metadata": {},
   "outputs": [
    {
     "data": {
      "text/plain": [
       "1022:getfield(Main.##370, Symbol(\"##15#16\"))()()::Any"
      ]
     },
     "execution_count": 9,
     "metadata": {},
     "output_type": "execute_result"
    }
   ],
   "source": [
    "objacenter = constant(k.center)\n",
    "obja = ciid(ω -> RayTrace.MaterialGeom(Sphere(objacenter(ω), k.r), k.material))\n",
    "objb = mg\n",
    "\n",
    "sc = ciid(ω -> RayTrace.ListScene([[g for (i, g) in enumerate(ls2.geoms) if i != gid] ; obja(ω)] ))\n",
    "cantseeb = ciid(ω -> !CanSee.cansee(sc(ω), objb))"
   ]
  },
  {
   "cell_type": "markdown",
   "metadata": {},
   "source": [
    "Check is fact that in some world ω, is fact that obja where it is cause that we can't see object b"
   ]
  },
  {
   "cell_type": "code",
   "execution_count": 10,
   "metadata": {},
   "outputs": [
    {
     "data": {
      "text/plain": [
       "Omega.Space.LinearΩ{Array{Int64,1},UnitRange{Int64},Array{Any,1}}(Dict{Array{Int64,1},UnitRange{Int64}}(), Any[])"
      ]
     },
     "execution_count": 10,
     "metadata": {},
     "output_type": "execute_result"
    }
   ],
   "source": [
    "ω = defΩ()()"
   ]
  },
  {
   "cell_type": "markdown",
   "metadata": {},
   "source": [
    "CanSee.iscausebf(ω, objacenter ==ₛ objacenter(ω), cantseeb, [objacenter];\n",
    "                 sizes = [3],\n",
    "                 proj = v -> Point(v[1], v[2], v[3]), init = () -> [k.center.data...])#-\n",
    "*This notebook was generated using [Literate.jl](https://github.com/fredrikekre/Literate.jl).*"
   ]
  }
 ],
 "metadata": {
  "kernelspec": {
   "display_name": "Julia 1.1.0",
   "language": "julia",
   "name": "julia-1.1"
  },
  "language_info": {
   "file_extension": ".jl",
   "mimetype": "application/julia",
   "name": "julia",
   "version": "1.1.0"
  }
 },
 "nbformat": 4,
 "nbformat_minor": 3
}
