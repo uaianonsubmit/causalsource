{
 "cells": [
  {
   "cell_type": "code",
   "execution_count": null,
   "metadata": {},
   "outputs": [
    {
     "name": "stderr",
     "output_type": "stream",
     "text": [
      "┌ Info: Recompiling stale cache file /home/zenna/.julia/compiled/v1.1/Omega/cIe5P.ji for Omega [1af16e33-887a-59b3-8344-18f1671b3ade]\n",
      "└ @ Base loading.jl:1184\n"
     ]
    }
   ],
   "source": [
    "using Omega\n",
    "using Flux, DiffEqFlux, DifferentialEquations, Plots, DiffEqNoiseProcess\n",
    "PLOTSPATH = joinpath(@__DIR__, \"..\", \"figures\")"
   ]
  },
  {
   "cell_type": "markdown",
   "metadata": {},
   "source": [
    "### The prior: differential equations model for population dynamics"
   ]
  },
  {
   "cell_type": "markdown",
   "metadata": {},
   "source": [
    "Lotka Volterra represents dynamics of wolves and Rabbit populations over time"
   ]
  },
  {
   "cell_type": "code",
   "execution_count": null,
   "metadata": {},
   "outputs": [],
   "source": [
    "function lotka_volterra(du, u, p, t)\n",
    "  x, y = u\n",
    "  α, β, δ, γ = p\n",
    "  du[1] = dx = α*x - β*x*y\n",
    "  du[2] = dy = -δ*y + γ*x*y\n",
    "end"
   ]
  },
  {
   "cell_type": "markdown",
   "metadata": {},
   "source": [
    "Initial conditions of dynamical system are uniformly distributed"
   ]
  },
  {
   "cell_type": "code",
   "execution_count": null,
   "metadata": {},
   "outputs": [],
   "source": [
    "u0 = uniform(0.5, 1.5, (2,))"
   ]
  },
  {
   "cell_type": "markdown",
   "metadata": {},
   "source": [
    "At `t_now` we observe the populations"
   ]
  },
  {
   "cell_type": "code",
   "execution_count": null,
   "metadata": {},
   "outputs": [],
   "source": [
    "t_now = 20.0"
   ]
  },
  {
   "cell_type": "markdown",
   "metadata": {},
   "source": [
    "The time span of the ODE integration is from 0 to `t_now`.  We make it a constant random variable to be easily intervenable"
   ]
  },
  {
   "cell_type": "code",
   "execution_count": null,
   "metadata": {},
   "outputs": [],
   "source": [
    "tspan = constant((0.0, t_now))"
   ]
  },
  {
   "cell_type": "markdown",
   "metadata": {},
   "source": [
    "Prior over Lotka-Volterra parameters"
   ]
  },
  {
   "cell_type": "code",
   "execution_count": null,
   "metadata": {},
   "outputs": [],
   "source": [
    "p = ciid(ω -> [uniform(ω, 1.3, 1.7), uniform(ω, 0.7, 1.3), uniform(ω, 2.7, 3.3), uniform(ω, 0.7, 1.3)])"
   ]
  },
  {
   "cell_type": "markdown",
   "metadata": {},
   "source": [
    "A distribution over simulation problems and solutions"
   ]
  },
  {
   "cell_type": "code",
   "execution_count": null,
   "metadata": {},
   "outputs": [],
   "source": [
    "prob = ciid(ω -> ODEProblem(lotka_volterra, u0(ω), tspan(ω), p(ω)))\n",
    "sol = lift(solve)(prob)"
   ]
  },
  {
   "cell_type": "markdown",
   "metadata": {},
   "source": [
    "Plot time series from prior"
   ]
  },
  {
   "cell_type": "code",
   "execution_count": null,
   "metadata": {},
   "outputs": [],
   "source": [
    "plotfig1() = plot(rand(sol))"
   ]
  },
  {
   "cell_type": "code",
   "execution_count": null,
   "metadata": {},
   "outputs": [],
   "source": [
    "plotfig1()"
   ]
  },
  {
   "cell_type": "markdown",
   "metadata": {},
   "source": [
    "### Counter-factual model"
   ]
  },
  {
   "cell_type": "code",
   "execution_count": null,
   "metadata": {},
   "outputs": [],
   "source": [
    "\"Generate a counterfatual model\"\n",
    "function gencf(; affect! = integrator -> integrator.u[2] /= 2.0,\n",
    "                 t_int = uniform(tspan[1], tspan[2]/2.0),\n",
    "                 tspan = tspan)\n",
    "  condition = ciid(ω -> (u, t, integrator) -> t == t_int(ω))\n",
    "  cb = DiscreteCallback(condition, affect!)\n",
    "  # Solution to differential equation with intervention\n",
    "  sol_int = ciid(ω -> solve(ODEProblem(lotka_volterra, u0(ω), tspan(ω), p(ω)),\n",
    "                            EM(),\n",
    "                            callback = DiscreteCallback(condition(ω), affect!),\n",
    "                            tstops = t_int(ω)))\n",
    "end"
   ]
  },
  {
   "cell_type": "markdown",
   "metadata": {},
   "source": [
    "Plot a solution from an intervened model"
   ]
  },
  {
   "cell_type": "code",
   "execution_count": null,
   "metadata": {},
   "outputs": [],
   "source": [
    "function sampleint()\n",
    "  t, sol_int_ = rand((impulse, sol_int))\n",
    "  println(\"intervention occured at time $t\")\n",
    "  plot(sol_int_)\n",
    "end"
   ]
  },
  {
   "cell_type": "markdown",
   "metadata": {},
   "source": [
    "Suppose we observe that there are no rabbits"
   ]
  },
  {
   "cell_type": "code",
   "execution_count": null,
   "metadata": {},
   "outputs": [],
   "source": [
    "function totalrabbits_(ω; ndays = 10)\n",
    "  sol_ = sol(ω)\n",
    "  n = length(sol_)\n",
    "  rabbits = [sol_[i][1] for i = (n - ndays):n]\n",
    "  sum(rabbits)\n",
    "end\n",
    "\n",
    "totalrabbits = ciid(totalrabbits_)"
   ]
  },
  {
   "cell_type": "markdown",
   "metadata": {},
   "source": [
    "There are no rabbits if integrated mean value is 0"
   ]
  },
  {
   "cell_type": "code",
   "execution_count": null,
   "metadata": {},
   "outputs": [],
   "source": [
    "norabbits = totalrabbits ==ₛ 0.0\n",
    "toomanyrabbits = totalrabbits ==ₛ 5.0"
   ]
  },
  {
   "cell_type": "markdown",
   "metadata": {},
   "source": [
    "Effect Of Action #"
   ]
  },
  {
   "cell_type": "code",
   "execution_count": null,
   "metadata": {},
   "outputs": [],
   "source": [
    "sol_inc_rab = gencf(; affect! = integrator -> integrator.u[1] += 2.0,\n",
    "                      t_int = constant(t_now),\n",
    "                      tspan = constant((0, t_now * 2)))\n",
    "\n",
    "function plot_effect_action(; n = 100, alg = SSMH, kwargs...)\n",
    "  samples = rand((toomanyrabbits, sol, sol_inc_rab), toomanyrabbits, n; alg = alg, kwargs...)\n",
    "  norabbit_, sol_, sol_inc_rab_ = ntranspose(samples)\n",
    "  p1 = plot(sol_[end], title = \"Conditioned Model\")\n",
    "  p2 = plot(sol_inc_rab_[end], title = \"Action: Cull Prey\")\n",
    "  display(p1)\n",
    "  display(p2)\n",
    "  p1, p2\n",
    "end\n",
    "\n",
    "\"Affect of increasing the number of predators\"\n",
    "function plot_treatment_action(; n = 10000, alg = SSMH, kwargs...)\n",
    "  samples = rand((toomanyrabbits, replace(sol, tspan => constant((0, t_now * 2))), sol_inc_rab), toomanyrabbits, n; alg = alg, kwargs...)\n",
    "  norabbit_, sol_, sol_inc_rab_ = ntranspose(samples)\n",
    "  a = [sum(extractvals(a, 1, 20.0, 40.0)) for a in sol_[div(n, 2):n]]\n",
    "  b = [sum(extractvals(a, 1, 20.0, 40.0)) for a in sol_inc_rab_[div(n, 2):n]]\n",
    "  @show unique(b .- a)\n",
    "  @show b .- a\n",
    "  histogram(b .- a, title = \"Prey Cull Treatment Effect\", yaxis = false)\n",
    "  # norabbit_, sol_, sol_inc_rab_, a, b\n",
    "end"
   ]
  },
  {
   "cell_type": "markdown",
   "metadata": {},
   "source": [
    "Counter Factual #"
   ]
  },
  {
   "cell_type": "code",
   "execution_count": null,
   "metadata": {},
   "outputs": [],
   "source": [
    "t_int = uniform(tspan[1], tspan[2]/2.0)\n",
    "sol_inc_pred = gencf(; t_int = t_int,\n",
    "                       affect! = integrator -> integrator.u[2] += 2.0)\n",
    "\n",
    "function plot_inc_pred(; n = 100, alg = SSMH, kwargs...)\n",
    "  samples = rand((t_int, toomanyrabbits, sol, sol_inc_pred), toomanyrabbits, n; alg = alg, kwargs...)\n",
    "  t_int_, nor, sol_, sol_inc_pred_ = ntranspose(samples)\n",
    "  println(\"intervention occured at time $(t_int_[end])\")\n",
    "  # display(plot(logerr.(nor)))\n",
    "  # @grab sol_\n",
    "  # @assert false\n",
    "  x1, y1 = ntranspose(sol_[end].u)\n",
    "  x2, y2 = ntranspose(sol_inc_pred_[end].u)\n",
    "  m = max(maximum(x1), maximum(y1), maximum(x2), maximum(y2))\n",
    "\n",
    "  p1 = plot(sol_[end], title = \"Conditioned Model\", ylim = [0, m])\n",
    "  p2 = plot(sol_inc_pred_[end], title = \"Counterfactual: Inc Predators\", ylim = [0, m])\n",
    "  display(p1)\n",
    "  display(p2)\n",
    "  p1, p2\n",
    "end\n",
    "\n",
    "\"Affect of increasing the number of predators\"\n",
    "function plot_treatment(; n = 1000, alg = Replica, kwargs...)\n",
    "  samples = rand((t_int, toomanyrabbits, sol, sol_inc_pred), toomanyrabbits, n; alg = alg, kwargs...)\n",
    "  t_int_, nor, sol_, sol_inc_pred_ = ntranspose(samples)\n",
    "  sol_[end], sol_inc_pred_[end]\n",
    "  a = [sum(extractvals(a, 1, 0.0, 10.0)) for a in sol_[500:1000]]\n",
    "  b = [sum(extractvals(a, 1, 0.0, 10.0)) for a in sol_inc_pred_[500:1000]]\n",
    "  histogram(b .- a, title = \"Pred Inc Treatment effect\", yaxis = false)\n",
    "end\n",
    "\n",
    "\"Values of i Population between a and b\"\n",
    "function extractvals(v, id, a, b, ::Type{T} = Float64) where T\n",
    "  res = Float64[]\n",
    "  for i = 1:length(v)\n",
    "    if a < v.t[i] < b\n",
    "      push!(res, v.u[i][id])\n",
    "    end\n",
    "  end\n",
    "  res\n",
    "end"
   ]
  },
  {
   "cell_type": "markdown",
   "metadata": {},
   "source": [
    "Plot"
   ]
  },
  {
   "cell_type": "code",
   "execution_count": null,
   "metadata": {},
   "outputs": [],
   "source": [
    "function makeplots(; save = true, fname = joinpath(PLOTSPATH, \"allfigs.pdf\"))\n",
    "  @show fname\n",
    "  @show @__DIR__\n",
    "  plts_ea = plot_effect_action()\n",
    "  # plts = [sample() for i = 1:6]\n",
    "  plt = plot(plts_ea..., plot_inc_pred()..., plot_treatment_action(), plot_treatment(),\n",
    "             layout = (3,2),\n",
    "             legend = false)\n",
    "  display(plt)\n",
    "  save && savefig(plt, fname)\n",
    "end"
   ]
  },
  {
   "cell_type": "markdown",
   "metadata": {},
   "source": [
    "*This notebook was generated using [Literate.jl](https://github.com/fredrikekre/Literate.jl).*"
   ]
  }
 ],
 "metadata": {
  "@webio": {
   "lastCommId": "E30892942B9C4211A9BB4C96A75582CF",
   "lastKernelId": "44a7ccc7-2e27-460e-8aed-8b3a24263d3d"
  },
  "kernelspec": {
   "display_name": "Julia 1.1.0",
   "language": "julia",
   "name": "julia-1.1"
  },
  "language_info": {
   "file_extension": ".jl",
   "mimetype": "application/julia",
   "name": "julia",
   "version": "1.1.0"
  }
 },
 "nbformat": 4,
 "nbformat_minor": 3
}
