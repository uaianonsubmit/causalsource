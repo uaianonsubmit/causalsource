{
 "cells": [
  {
   "cell_type": "code",
   "execution_count": 2,
   "metadata": {},
   "outputs": [
    {
     "name": "stderr",
     "output_type": "stream",
     "text": [
      "┌ Info: Precompiling InvRayTrace [8a45d79e-a589-11e8-1025-51d29e337d7e]\n",
      "└ @ Base loading.jl:1192\n",
      "┌ Info: Recompiling stale cache file /home/zenna/.julia/compiled/v1.0/RayTrace/oKZMn.ji for RayTrace [9441d024-97fe-11e8-2154-4d1b79854d30]\n",
      "└ @ Base loading.jl:1190\n",
      "┌ Warning: Package RayTrace does not have DocStringExtensions in its dependencies:\n",
      "│ - If you have RayTrace checked out for development and have\n",
      "│   added DocStringExtensions as a dependency but haven't updated your primary\n",
      "│   environment's manifest file, try `Pkg.resolve()`.\n",
      "│ - Otherwise you may need to report an issue with RayTrace\n",
      "└ Loading DocStringExtensions into RayTrace from project dependency, future warnings for RayTrace are suppressed.\n",
      "┌ Warning: Package InvRayTrace does not have JLD2 in its dependencies:\n",
      "│ - If you have InvRayTrace checked out for development and have\n",
      "│   added JLD2 as a dependency but haven't updated your primary\n",
      "│   environment's manifest file, try `Pkg.resolve()`.\n",
      "│ - Otherwise you may need to report an issue with InvRayTrace\n",
      "│ Loading JLD2 into InvRayTrace from project dependency, future warnings for InvRayTrace are suppressed.\n",
      "└ @ nothing nothing:840\n"
     ]
    },
    {
     "name": "stdout",
     "output_type": "stream",
     "text": [
      "loaded\n"
     ]
    }
   ],
   "source": [
    "using InvRayTrace\n",
    "using InvRayTrace: Img\n",
    "using Omega\n",
    "using ImageView: imshow\n",
    "using RayTrace\n",
    "import RayTrace\n",
    "import RayTrace: ListScene, rgb, msphere, Vec3, Sphere, Scene, render\n",
    "import GeometryTypes: Point, Vec3"
   ]
  },
  {
   "cell_type": "markdown",
   "metadata": {},
   "source": [
    "Render at 224 by 224 because"
   ]
  },
  {
   "cell_type": "code",
   "execution_count": 3,
   "metadata": {},
   "outputs": [
    {
     "data": {
      "text/plain": [
       "rendersquare (generic function with 1 method)"
      ]
     },
     "execution_count": 3,
     "metadata": {},
     "output_type": "execute_result"
    }
   ],
   "source": [
    "rendersquare(x) = Img(RayTrace.render(x, width = 224, height = 224))"
   ]
  },
  {
   "cell_type": "markdown",
   "metadata": {},
   "source": [
    "Define Prior Distribution over Scenes"
   ]
  },
  {
   "cell_type": "code",
   "execution_count": 4,
   "metadata": {},
   "outputs": [
    {
     "data": {
      "text/plain": [
       "showscene"
      ]
     },
     "execution_count": 4,
     "metadata": {},
     "output_type": "execute_result"
    }
   ],
   "source": [
    "const nspheres = poisson(3) + 1\n",
    "\n",
    "\"Random Variable over Spheres\"\n",
    "function sphere_(ω)\n",
    "  msphere(Point(uniform(ω[@id], -6.0, 6.0), uniform(ω[@id], -1.0, 1.0), uniform(ω[@id], -30.0, -10.0)),\n",
    "          uniform(ω[@id], 1.0, 5.0),\n",
    "          Vec3(uniform(ω[@id], 0.0, 1.0), uniform(ω[@id], 0.0, 1.0), uniform(ω[@id], 0.0, 1.0)),\n",
    "          1.0,\n",
    "          0.0,\n",
    "          Vec3(0.0, 0.0, 0.0))\n",
    "end\n",
    "\n",
    "\"Random Variable over scenes\"\n",
    "function scene_(ω)\n",
    "  spheres = [sphere_(ω[i]) for i = 1:nspheres(ω)]\n",
    "  base = msphere(Point(0.0, -10004, -20), 10000.0, Vec3(0.20, 0.20, 0.20), 0.0, 0.0, Vec3(0.0, 0.0, 0.0))\n",
    "  light = msphere(Point(0.0, 20.0, -30), 3.0, zeros(Vec3), 0.0, 0.0, Vec3(3.0, 3.0, 3.0))\n",
    "  push!(spheres, base)\n",
    "  push!(spheres, light)\n",
    "  scene = ListScene(spheres)\n",
    "end\n",
    "const scene = ciid(scene_)                # Random Variable of scenes\n",
    "const img = lift(rendersquare)(scene)     # Prior distribution over images\n",
    "\n",
    "\"Show a scene\"\n",
    "showscene(scene) = imshow(rgb.(render(scene; width = 500, height = 500)'))"
   ]
  },
  {
   "cell_type": "markdown",
   "metadata": {},
   "source": [
    "Sample from Prior"
   ]
  },
  {
   "cell_type": "code",
   "execution_count": 5,
   "metadata": {},
   "outputs": [
    {
     "data": {
      "text/plain": [
       "Dict{String,Any} with 4 entries:\n",
       "  \"gui\"         => Dict{String,Any}(\"window\"=>GtkWindowLeaf(name=\"\", parent, wi…\n",
       "  \"roi\"         => Dict{String,Any}(\"redraw\"=>50: \"map(clim-mapped image, input…\n",
       "  \"annotations\" => 3: \"input-2\" = Dict{UInt64,Any}() Dict{UInt64,Any} \n",
       "  \"clim\"        => 2: \"CLim\" = CLim{RGB{Float64}}(RGB{Float64}(0.0,0.0,0.0), RG…"
      ]
     },
     "execution_count": 5,
     "metadata": {},
     "output_type": "execute_result"
    }
   ],
   "source": [
    "showscene(rand(scene))"
   ]
  },
  {
   "cell_type": "markdown",
   "metadata": {},
   "source": [
    "Observation #"
   ]
  },
  {
   "cell_type": "code",
   "execution_count": 6,
   "metadata": {},
   "outputs": [
    {
     "data": {
      "text/plain": [
       "Img{Array{GeometryTypes.Vec{3,Float64},2}}(GeometryTypes.Vec{3,Float64}[[1.0, 1.0, 1.0] [1.0, 1.0, 1.0] … [0.437706, 0.437706, 0.437706] [0.437132, 0.437132, 0.437132]; [1.0, 1.0, 1.0] [1.0, 1.0, 1.0] … [0.437764, 0.437764, 0.437764] [0.437189, 0.437189, 0.437189]; … ; [1.0, 1.0, 1.0] [1.0, 1.0, 1.0] … [0.437648, 0.437648, 0.437648] [0.437075, 0.437075, 0.437075]; [1.0, 1.0, 1.0] [1.0, 1.0, 1.0] … [0.437589, 0.437589, 0.437589] [0.437018, 0.437018, 0.437018]])"
      ]
     },
     "execution_count": 6,
     "metadata": {},
     "output_type": "execute_result"
    }
   ],
   "source": [
    "\"Some example spheres which should create actual image\"\n",
    "function obs_scene()\n",
    "  scene = [msphere(Point(0.0, -10004, -20), 10000.0, Vec3(0.20, 0.20, 0.20), 0.0, 0.0, Vec3(0.0, 0.0, 0.0)),\n",
    "           msphere(Point(0.0, 0.0, -20), 4.0, Vec3(1.0, 0.32, 0.36), 1.0, 0.5, zeros(Vec3)),\n",
    "           msphere(Point(5.0, 1.0, -15), 2.0, Vec3(0.90, 0.76, 0.46), 1.0, 0.0, zeros(Vec3)),\n",
    "           msphere(Point(5.0, 0.0, -25), 3.0, Vec3(0.65, 0.77, 0.970), 1.0, 0.0, zeros(Vec3)),\n",
    "           msphere(Point(-5.5,      0, -15), 3.0, Vec3(0.90, 0.90, 0.90), 1.0, 0.0, zeros(Vec3)),\n",
    "           msphere(Point(0.0, 20.0, -30), 3.0, zeros(Vec3), 0.0, 0.0, Vec3(3.0, 3.0, 3.0))]\n",
    "  RayTrace.ListScene(scene)\n",
    "end\n",
    "\n",
    "const img_obs = rendersquare(obs_scene())"
   ]
  },
  {
   "cell_type": "markdown",
   "metadata": {},
   "source": [
    "Show the obseration"
   ]
  },
  {
   "cell_type": "code",
   "execution_count": 7,
   "metadata": {},
   "outputs": [
    {
     "data": {
      "text/plain": [
       "sampleposterior (generic function with 2 methods)"
      ]
     },
     "execution_count": 7,
     "metadata": {},
     "output_type": "execute_result"
    }
   ],
   "source": [
    "showscene(obs_scene())\n",
    "\n",
    "function sampleposterior(n = 1000)\n",
    "  samples = rand(scene, img ==ₛ img_obs, n; alg = SSMH)\n",
    "end"
   ]
  },
  {
   "cell_type": "markdown",
   "metadata": {},
   "source": [
    "function sampleposterior_noi(n = 50000; noi = false, alg = SSMH, gamma = 1.0, kwargs...)\n",
    "  logdir = Random.randstring()\n",
    "  writer = Tensorboard.SummaryWriter(logdir)\n",
    "  noipred = Omega.lift(nointersect)(scene)\n",
    "  obspred = img ==ₛ img_obs\n",
    "  pred = noi ? (gamma * noipred) & obspred : obspred\n",
    "  samples = rand(scene, pred, n; cb = cb, alg = alg, kwargs...)\n",
    "  samples\n",
    "end#-\n",
    "*This notebook was generated using [Literate.jl](https://github.com/fredrikekre/Literate.jl).*"
   ]
  }
 ],
 "metadata": {
  "@webio": {
   "lastCommId": "BBBD3F21C8224CD48B60CA9A973D09D9",
   "lastKernelId": "01e077e8-b7fc-493a-8fee-c4541cf9d239"
  },
  "kernelspec": {
   "display_name": "Julia 1.0.2",
   "language": "julia",
   "name": "julia-1.0"
  },
  "language_info": {
   "file_extension": ".jl",
   "mimetype": "application/julia",
   "name": "julia",
   "version": "1.0.2"
  }
 },
 "nbformat": 4,
 "nbformat_minor": 3
}
