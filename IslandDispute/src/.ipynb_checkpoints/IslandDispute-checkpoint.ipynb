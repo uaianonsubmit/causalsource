{
 "cells": [
  {
   "cell_type": "code",
   "execution_count": 1,
   "metadata": {
    "collapsed": true
   },
   "outputs": [],
   "source": [
    "using Omega\n",
    "using Images\n",
    "using POMDPs\n",
    "using POMDPModelTools\n",
    "using POMDPSimulators\n",
    "using StaticArrays\n",
    "using Parameters\n",
    "using Random\n",
    "using MCTS\n",
    "using UnicodePlots\n",
    "using DiscreteValueIteration\n",
    "import Plots"
   ]
  },
  {
   "cell_type": "markdown",
   "metadata": {},
   "source": [
    "Consider a migration dispute between three hypothetical island nations (Figure \\ref{fig:islandviz} Left):\n",
    "$S$ to the South, $E$ to the East and $N$ to the North.\n",
    "The government of $S$ aims to reduce emigration of its population to the $N$, and considers constructing a barrier between $S$ and $N$ (Figure \\ref{fig:islandviz} right)."
   ]
  },
  {
   "cell_type": "markdown",
   "metadata": {},
   "source": [
    "We model this problem as counterfactional inference in a Markov Decision Process \\cite{puterman2014markov} (MDP) model.\n",
    "To determine whether the border can be effective:\n",
    "= We assume members of the population are rational: that they migrate according to their beliefs about the world and their objectives.\n",
    "- We condition on observed migration patterns to infer a posterior belief over the population objectives.\n",
    "- In this conditional model, we consider the intervention (adding the barrier) and predict the resulting migration."
   ]
  },
  {
   "cell_type": "markdown",
   "metadata": {},
   "source": [
    "Concretely, we assume the world is a 7 by 6 grid and a world population of $1000$ residents."
   ]
  },
  {
   "cell_type": "code",
   "execution_count": 2,
   "metadata": {},
   "outputs": [
    {
     "data": {
      "text/plain": [
       "makeplots (generic function with 1 method)"
      ]
     },
     "execution_count": 2,
     "metadata": {},
     "output_type": "execute_result"
    }
   ],
   "source": [
    "#`SimpleGridWorld` defines an MDP which we will solve for each member of the population using POMDPs\n",
    "include(\"gridworld.jl\")\n",
    "include(\"plots.jl\")"
   ]
  },
  {
   "cell_type": "markdown",
   "metadata": {},
   "source": [
    "Each cell is either land, water, or wall"
   ]
  },
  {
   "cell_type": "code",
   "execution_count": 3,
   "metadata": {},
   "outputs": [
    {
     "data": {
      "text/plain": [
       "Main.##369.Terrain"
      ]
     },
     "execution_count": 3,
     "metadata": {},
     "output_type": "execute_result"
    }
   ],
   "source": [
    "\"Piece of land, water or wall\"\n",
    "struct Terrain\n",
    "  id::Int\n",
    "  pos::Vector{GWPos}\n",
    "end"
   ]
  },
  {
   "cell_type": "markdown",
   "metadata": {},
   "source": [
    "Each member of this universe receives cost at every time step\n",
    "This cost is subjective and depends on the terrain"
   ]
  },
  {
   "cell_type": "code",
   "execution_count": 4,
   "metadata": {},
   "outputs": [
    {
     "data": {
      "text/plain": [
       "Main.##369.CostTerrain"
      ]
     },
     "execution_count": 4,
     "metadata": {},
     "output_type": "execute_result"
    }
   ],
   "source": [
    "\"Terrain with cost\"\n",
    "struct CostTerrain\n",
    "  obj::Terrain\n",
    "  cost::Float64\n",
    "end"
   ]
  },
  {
   "cell_type": "markdown",
   "metadata": {},
   "source": [
    "Islands: South, North, East"
   ]
  },
  {
   "cell_type": "code",
   "execution_count": 5,
   "metadata": {},
   "outputs": [
    {
     "data": {
      "text/plain": [
       "(Main.##369.Terrain(1, StaticArrays.SArray{Tuple{2},Int64,1,2}[[2, 1], [3, 1], [4, 1], [3, 2]]), Main.##369.Terrain(2, StaticArrays.SArray{Tuple{2},Int64,1,2}[[3, 4], [2, 5], [3, 5], [4, 5], [3, 6]]), Main.##369.Terrain(3, StaticArrays.SArray{Tuple{2},Int64,1,2}[[7, 2], [6, 3], [7, 3], [7, 4]]))"
      ]
     },
     "execution_count": 5,
     "metadata": {},
     "output_type": "execute_result"
    }
   ],
   "source": [
    "S = Terrain(1, [GWPos(2,1), GWPos(3, 1), GWPos(4, 1), GWPos(3,2)])\n",
    "N = Terrain(2, [GWPos(3,4), GWPos(2, 5), GWPos(3, 5), GWPos(4,5), GWPos(3,6)])\n",
    "E = Terrain(3, [GWPos(7,2), GWPos(6, 3), GWPos(7,3), GWPos(7,4)])\n",
    "islands = (S, N, E)"
   ]
  },
  {
   "cell_type": "markdown",
   "metadata": {},
   "source": [
    "wall = Terrain(3, [GWPos(1,3), GWPos(2,3), GWPos(3,3), GWPos(4,3), GWPos(5,3)])"
   ]
  },
  {
   "cell_type": "markdown",
   "metadata": {},
   "source": [
    "Wall is another kind of terrain (that is hard to cross)"
   ]
  },
  {
   "cell_type": "code",
   "execution_count": 6,
   "metadata": {},
   "outputs": [
    {
     "data": {
      "text/plain": [
       "-30"
      ]
     },
     "execution_count": 6,
     "metadata": {},
     "output_type": "execute_result"
    }
   ],
   "source": [
    "wall = Terrain(4, [GWPos(1,3), GWPos(2,3), GWPos(3,3), GWPos(4,3), GWPos(5,3),\n",
    "                   GWPos(1,4), GWPos(1, 5), GWPos(1, 6),\n",
    "                   GWPos(5,4), GWPos(5, 5), GWPos(5, 6)])\n",
    "# We'll assume that the cost of being in water or traversing a wall is constant among the population\n",
    "watercost = -10.0\n",
    "wallcost = -30"
   ]
  },
  {
   "cell_type": "markdown",
   "metadata": {},
   "source": [
    "Construct an inverse map from position to the terrain type"
   ]
  },
  {
   "cell_type": "code",
   "execution_count": 7,
   "metadata": {},
   "outputs": [
    {
     "data": {
      "text/plain": [
       "-10.0"
      ]
     },
     "execution_count": 7,
     "metadata": {},
     "output_type": "execute_result"
    }
   ],
   "source": [
    "const invmap = Dict()\n",
    "for ter in [S, N, E, wall]\n",
    "  for pos in ter.pos\n",
    "    invmap[pos] = ter\n",
    "  end\n",
    "end\n",
    "\n",
    "\"Rewards Dict from positiosn to values\"\n",
    "function rewards(objects, defaultcost = watercost)\n",
    "  rewards_ = Dict{GWPos, Float64}()\n",
    "  for obj in objects\n",
    "    for xy in obj.obj.pos\n",
    "      if xy in keys(rewards_)\n",
    "        rewards_[xy] += obj.cost\n",
    "      else\n",
    "        rewards_[xy] = obj.cost\n",
    "      end\n",
    "    end\n",
    "  end\n",
    "  rewards_\n",
    "end\n",
    "\n",
    "HIGH =  10.0\n",
    "NEUTRAL = 0.0\n",
    "LOW = -10.0"
   ]
  },
  {
   "cell_type": "markdown",
   "metadata": {},
   "source": [
    "terraincostmat maps where a person is born to their beliefs about all other natiosn"
   ]
  },
  {
   "cell_type": "code",
   "execution_count": 8,
   "metadata": {
    "collapsed": true
   },
   "outputs": [],
   "source": [
    "terraincostsmat = [normal(LOW, 3.0) normal(NEUTRAL, 3.0) normal(HIGH, 3.0);\n",
    "                   normal(LOW, 3.0) normal(HIGH, 3.0) normal(LOW, 3.0);\n",
    "                   normal(NEUTRAL, 3.0) normal(NEUTRAL, 3.0) normal(NEUTRAL, 3.0)]\n",
    "\n",
    "terraincostsmatrv = constant(terraincostsmat)\n",
    "addwall = constant(false)\n",
    "\n",
    "\"Simulate migration for one citizen\"\n",
    "function solveworld(rng, ω; size = (7,6), defrward = watercost,\n",
    "                            solver = ValueIterationSolver(max_iterations=10, belres=1e-6))\n",
    "  # Sample the island of birth uniformly along islands\n",
    "  birthisland = rand(rng, [islands...]) #FIXME? Should this be rng?\n",
    "  # Within the country sample a birth position\n",
    "  birthplace_ = rand(rng, birthisland.pos)\n",
    "  terraincostsmat_ = terraincostsmatrv(ω)\n",
    "  # Construct a believ about the world: i.e. costs of every terrain for this person\n",
    "  objects = [CostTerrain(obj, terraincostsmat_[birthisland.id, obj.id](ω)) for obj in islands]\n",
    "  # Potentially add the wall to their set of beleifs\n",
    "  if addwall(ω)\n",
    "    push!(objects, CostTerrain(wall, wallcost))\n",
    "  end\n",
    "  # objects = [CostTerrain(obj, terraincosts[(birthisland, obj)](ω)) for obj in islands]\n",
    "  # Construct a reward function\n",
    "  rewards_ = rewards(objects)\n",
    "  for (k, v) in rewards_\n",
    "    rewards_[k] += randn(rng)\n",
    "  end\n",
    "  # Construct an mdp\n",
    "  mdp = SimpleGridWorld(size = size,\n",
    "                        rewards = rewards_,\n",
    "                        defreward = defrward,\n",
    "                        initialstate = birthplace_,\n",
    "                        tprob = 0.99,\n",
    "                        terminate_from = Set{GWPos}())\n",
    "  # Solve the mdp to construct a policy\n",
    "  policy = solve(solver, mdp) # runs value iterations\n",
    "  # Act according to the policy for 10 time steps\n",
    "  states = GWPos[]\n",
    "  rs = Float64[]\n",
    "  actions = Symbol[]\n",
    "  # @show objects\n",
    "  for (s, a, r) in stepthrough(mdp, policy, \"s,a,r\", max_steps=10; rng = rng)\n",
    "    push!(actions, a)\n",
    "    push!(states, s)\n",
    "    push!(rs, r)\n",
    "    # @show s\n",
    "  end\n",
    "  # @show actions\n",
    "  # @show states\n",
    "  # @show rs\n",
    "  # println(\"\\n\\n\")\n",
    "  states\n",
    "end\n",
    "\n",
    "\"Simulate global migration `npeople` people\"\n",
    "function world(ω, npeople = 100, seed = 12345)\n",
    "  rng  = Random.MersenneTwister(seed)\n",
    "  statesseqs = Vector{GWPos}[]\n",
    "  for i = 1:npeople\n",
    "    push!(statesseqs, solveworld(rng, ω))\n",
    "  end\n",
    "  statesseqs\n",
    "end\n",
    "\n",
    "function migrationmovements(allseqs)\n",
    "  mat = zeros(length(islands), length(islands) + 2)\n",
    "  for stateseq in allseqs\n",
    "    birth = invmap[stateseq[1]]\n",
    "    for state in stateseq\n",
    "      terr = get(invmap, state, 0)\n",
    "      if terr == 0\n",
    "        mat[birth.id, 5] += 1.0\n",
    "      else\n",
    "        mat[birth.id, terr.id] += 1.0\n",
    "      end\n",
    "    end\n",
    "  end\n",
    "  mat\n",
    "end\n",
    "\n",
    "wrld = ciid(world)\n",
    "function runmodel(; usereplmap = false, replmap = Dict())\n",
    "  samples = usereplmap ? rand(replace(wrld, replmap)) : rand(wrld)\n",
    "  allstates = vcat(samples...)\n",
    "  xs, ys = ntranspose(allstates)\n",
    "  display(densityplot(xs, ys))\n",
    "  m = migrationmovements(samples)\n",
    "  return (m, samples, allstates)\n",
    "end\n",
    "\n",
    "terraincostsmat2 = [normal(LOW, 3.0) normal(NEUTRAL, 3.0) normal(HIGH, 3.0);\n",
    "                    normal(LOW, 3.0) normal(HIGH, 3.0) normal(LOW, 3.0);\n",
    "                    normal(NEUTRAL, 3.0) normal(NEUTRAL, 3.0) normal(NEUTRAL, 3.0)]\n",
    "\n",
    "export runmodel, N, S, E, terraincostsmat, plotmigration"
   ]
  },
  {
   "cell_type": "markdown",
   "metadata": {},
   "source": [
    "What uncertainty are we doing inference over?\n",
    "Southeners have"
   ]
  },
  {
   "cell_type": "markdown",
   "metadata": {},
   "source": [
    "*This notebook was generated using [Literate.jl](https://github.com/fredrikekre/Literate.jl).*"
   ]
  }
 ],
 "metadata": {
  "@webio": {
   "lastCommId": "02D953EF83F3482282AC0A26193A238B",
   "lastKernelId": "f81c0462-be13-4714-afe9-c48b9b6a3186"
  },
  "kernelspec": {
   "display_name": "Julia 1.1.0",
   "language": "julia",
   "name": "julia-1.1"
  },
  "language_info": {
   "file_extension": ".jl",
   "mimetype": "application/julia",
   "name": "julia",
   "version": "1.1.0"
  }
 },
 "nbformat": 4,
 "nbformat_minor": 3
}
