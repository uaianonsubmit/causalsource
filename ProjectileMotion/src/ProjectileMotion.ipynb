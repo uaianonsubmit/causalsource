{
 "cells": [
  {
   "cell_type": "code",
   "execution_count": 1,
   "metadata": {},
   "outputs": [
    {
     "data": {
      "text/plain": [
       "Main.##369.vizscene"
      ]
     },
     "execution_count": 1,
     "metadata": {},
     "output_type": "execute_result"
    }
   ],
   "source": [
    "using Omega\n",
    "using Omega.Inference: ReplicaAlg\n",
    "using Plots\n",
    "import Statistics\n",
    "using Random\n",
    "include(\"viz.jl\")"
   ]
  },
  {
   "cell_type": "markdown",
   "metadata": {},
   "source": [
    "### Projectile Motion"
   ]
  },
  {
   "cell_type": "markdown",
   "metadata": {},
   "source": [
    "Consider a projectile launched at an angle θ with initial velocity $v_0$ on a level plane\n",
    "We know the  equations of motion are:"
   ]
  },
  {
   "cell_type": "markdown",
   "metadata": {},
   "source": [
    "\\begin{equation}\n",
    "x(t) = v_0 \\cos \\theta t  \\;\\;\\;\\;\\;\\; \\\\\n",
    "y(t) = v_0 \\sin \\theta t - \\frac{1}{2}gt^2\n",
    "\\end{equation}"
   ]
  },
  {
   "cell_type": "markdown",
   "metadata": {},
   "source": [
    "Launch point and gravity are constants but we have uncertainty over velocity,"
   ]
  },
  {
   "cell_type": "code",
   "execution_count": 2,
   "metadata": {},
   "outputs": [
    {
     "data": {
      "text/plain": [
       "7:Omega.reifyapply(+, 0.7853981633974483, Normal)::Float64"
      ]
     },
     "execution_count": 2,
     "metadata": {},
     "output_type": "execute_result"
    }
   ],
   "source": [
    "const v0 = normal(10, 1)\n",
    "const u0 = constant((0.0, 0.0))\n",
    "const g = constant(9.81)\n",
    "const θ = π/4 + normal(0, 1)"
   ]
  },
  {
   "cell_type": "markdown",
   "metadata": {},
   "source": [
    "We will simulate step by step, which preserves causal order"
   ]
  },
  {
   "cell_type": "code",
   "execution_count": 3,
   "metadata": {},
   "outputs": [
    {
     "data": {
      "text/plain": [
       "Main.##369.simulate"
      ]
     },
     "execution_count": 3,
     "metadata": {},
     "output_type": "execute_result"
    }
   ],
   "source": [
    "\"Simulate projectile motion for `nsteps` with `Δt`\"\n",
    "function simulate(u0, v0, θ, g; maxsteps = 10000, Δt = 0.01)\n",
    "  t = 0.0\n",
    "  series = [u0]\n",
    "  for i = 1:(maxsteps - 1)\n",
    "    x = v0 * t * cos(θ)\n",
    "    y = v0 * t * sin(θ) - 0.5 * g * t^2\n",
    "    if y < 0\n",
    "      break\n",
    "    end\n",
    "    push!(series, (x, y))\n",
    "    t += Δt\n",
    "  end\n",
    "  series\n",
    "end"
   ]
  },
  {
   "cell_type": "markdown",
   "metadata": {},
   "source": [
    "`series` is a random variable over position of the projectile"
   ]
  },
  {
   "cell_type": "code",
   "execution_count": 4,
   "metadata": {
    "collapsed": true
   },
   "outputs": [],
   "source": [
    "const series = lift(simulate)(u0, v0, θ, g);"
   ]
  },
  {
   "cell_type": "markdown",
   "metadata": {},
   "source": [
    "### Ball Collision\n",
    "Next we will add a (yellow) ball to the scene, which the projectile may or may not hit."
   ]
  },
  {
   "cell_type": "markdown",
   "metadata": {},
   "source": [
    "We assume a ball of constant radius and position"
   ]
  },
  {
   "cell_type": "code",
   "execution_count": 5,
   "metadata": {
    "collapsed": true
   },
   "outputs": [],
   "source": [
    "const ball_radius = constant(0.5)\n",
    "const ball_pos = constant((8.0, 0.25));"
   ]
  },
  {
   "cell_type": "markdown",
   "metadata": {},
   "source": [
    "We can simulate projectile samples from the prior"
   ]
  },
  {
   "cell_type": "code",
   "execution_count": 6,
   "metadata": {},
   "outputs": [
    {
     "data": {
      "image/png": "[encoded data removed]",
      "image/svg+xml": [
       "<?xml version=\"1.0\" encoding=\"utf-8\"?>\n",
       "<svg xmlns=\"http://www.w3.org/2000/svg\" xmlns:xlink=\"http://www.w3.org/1999/xlink\" width=\"600\" height=\"400\" viewBox=\"0 0 2400 1600\">\n",
       "<defs>\n",
       "  <clipPath id=\"clip6400\">\n",
       "    <rect x=\"0\" y=\"0\" width=\"2400\" height=\"1600\"/>\n",
       "  </clipPath>\n",
       "</defs>\n",
       "<polygon clip-path=\"url(#clip6400)\" points=\"\n",
       "0,1600 2400,1600 2400,0 0,0 \n",
       "  \" fill=\"#ffffff\" fill-rule=\"evenodd\" fill-opacity=\"1\"/>\n",
       "<defs>\n",
       "  <clipPath id=\"clip6401\">\n",
       "    <rect x=\"480\" y=\"0\" width=\"1681\" height=\"1600\"/>\n",
       "  </clipPath>\n",
       "</defs>\n",
       "<polygon clip-path=\"url(#clip6400)\" points=\"\n",
       "189.504,900.741 2321.26,900.741 2321.26,649.978 189.504,649.978 \n",
       "  \" fill=\"#ffffff\" fill-rule=\"evenodd\" fill-opacity=\"1\"/>\n",
       "<defs>\n",
       "  <clipPath id=\"clip6402\">\n",
       "    <rect x=\"189\" y=\"649\" width=\"2133\" height=\"252\"/>\n",
       "  </clipPath>\n",
       "</defs>\n",
       "<polyline clip-path=\"url(#clip6402)\" style=\"stroke:#000000; stroke-width:2; stroke-opacity:0.1; fill:none\" points=\"\n",
       "  249.837,900.741 249.837,649.978 \n",
       "  \"/>\n",
       "<polyline clip-path=\"url(#clip6402)\" style=\"stroke:#000000; stroke-width:2; stroke-opacity:0.1; fill:none\" points=\"\n",
       "  723.035,900.741 723.035,649.978 \n",
       "  \"/>\n",
       "<polyline clip-path=\"url(#clip6402)\" style=\"stroke:#000000; stroke-width:2; stroke-opacity:0.1; fill:none\" points=\"\n",
       "  1196.23,900.741 1196.23,649.978 \n",
       "  \"/>\n",
       "<polyline clip-path=\"url(#clip6402)\" style=\"stroke:#000000; stroke-width:2; stroke-opacity:0.1; fill:none\" points=\"\n",
       "  1669.43,900.741 1669.43,649.978 \n",
       "  \"/>\n",
       "<polyline clip-path=\"url(#clip6402)\" style=\"stroke:#000000; stroke-width:2; stroke-opacity:0.1; fill:none\" points=\"\n",
       "  2142.63,900.741 2142.63,649.978 \n",
       "  \"/>\n",
       "<polyline clip-path=\"url(#clip6402)\" style=\"stroke:#000000; stroke-width:2; stroke-opacity:0.1; fill:none\" points=\"\n",
       "  189.504,881.829 2321.26,881.829 \n",
       "  \"/>\n",
       "<polyline clip-path=\"url(#clip6402)\" style=\"stroke:#000000; stroke-width:2; stroke-opacity:0.1; fill:none\" points=\"\n",
       "  189.504,834.509 2321.26,834.509 \n",
       "  \"/>\n",
       "<polyline clip-path=\"url(#clip6402)\" style=\"stroke:#000000; stroke-width:2; stroke-opacity:0.1; fill:none\" points=\"\n",
       "  189.504,787.189 2321.26,787.189 \n",
       "  \"/>\n",
       "<polyline clip-path=\"url(#clip6402)\" style=\"stroke:#000000; stroke-width:2; stroke-opacity:0.1; fill:none\" points=\"\n",
       "  189.504,739.87 2321.26,739.87 \n",
       "  \"/>\n",
       "<polyline clip-path=\"url(#clip6402)\" style=\"stroke:#000000; stroke-width:2; stroke-opacity:0.1; fill:none\" points=\"\n",
       "  189.504,692.55 2321.26,692.55 \n",
       "  \"/>\n",
       "<polyline clip-path=\"url(#clip6400)\" style=\"stroke:#000000; stroke-width:4; stroke-opacity:1; fill:none\" points=\"\n",
       "  189.504,900.741 2321.26,900.741 \n",
       "  \"/>\n",
       "<polyline clip-path=\"url(#clip6400)\" style=\"stroke:#000000; stroke-width:4; stroke-opacity:1; fill:none\" points=\"\n",
       "  189.504,900.741 189.504,649.978 \n",
       "  \"/>\n",
       "<polyline clip-path=\"url(#clip6400)\" style=\"stroke:#000000; stroke-width:4; stroke-opacity:1; fill:none\" points=\"\n",
       "  249.837,900.741 249.837,896.98 \n",
       "  \"/>\n",
       "<polyline clip-path=\"url(#clip6400)\" style=\"stroke:#000000; stroke-width:4; stroke-opacity:1; fill:none\" points=\"\n",
       "  723.035,900.741 723.035,896.98 \n",
       "  \"/>\n",
       "<polyline clip-path=\"url(#clip6400)\" style=\"stroke:#000000; stroke-width:4; stroke-opacity:1; fill:none\" points=\"\n",
       "  1196.23,900.741 1196.23,896.98 \n",
       "  \"/>\n",
       "<polyline clip-path=\"url(#clip6400)\" style=\"stroke:#000000; stroke-width:4; stroke-opacity:1; fill:none\" points=\"\n",
       "  1669.43,900.741 1669.43,896.98 \n",
       "  \"/>\n",
       "<polyline clip-path=\"url(#clip6400)\" style=\"stroke:#000000; stroke-width:4; stroke-opacity:1; fill:none\" points=\"\n",
       "  2142.63,900.741 2142.63,896.98 \n",
       "  \"/>\n",
       "<polyline clip-path=\"url(#clip6400)\" style=\"stroke:#000000; stroke-width:4; stroke-opacity:1; fill:none\" points=\"\n",
       "  189.504,881.829 221.48,881.829 \n",
       "  \"/>\n",
       "<polyline clip-path=\"url(#clip6400)\" style=\"stroke:#000000; stroke-width:4; stroke-opacity:1; fill:none\" points=\"\n",
       "  189.504,834.509 221.48,834.509 \n",
       "  \"/>\n",
       "<polyline clip-path=\"url(#clip6400)\" style=\"stroke:#000000; stroke-width:4; stroke-opacity:1; fill:none\" points=\"\n",
       "  189.504,787.189 221.48,787.189 \n",
       "  \"/>\n",
       "<polyline clip-path=\"url(#clip6400)\" style=\"stroke:#000000; stroke-width:4; stroke-opacity:1; fill:none\" points=\"\n",
       "  189.504,739.87 221.48,739.87 \n",
       "  \"/>\n",
       "<polyline clip-path=\"url(#clip6400)\" style=\"stroke:#000000; stroke-width:4; stroke-opacity:1; fill:none\" points=\"\n",
       "  189.504,692.55 221.48,692.55 \n",
       "  \"/>\n",
       "<g clip-path=\"url(#clip6400)\">\n",
       "<text style=\"fill:#000000; fill-opacity:1; font-family:Arial,Helvetica Neue,Helvetica,sans-serif; font-size:48px; text-anchor:middle;\" transform=\"rotate(0, 249.837, 954.741)\" x=\"249.837\" y=\"954.741\">0</text>\n",
       "</g>\n",
       "<g clip-path=\"url(#clip6400)\">\n",
       "<text style=\"fill:#000000; fill-opacity:1; font-family:Arial,Helvetica Neue,Helvetica,sans-serif; font-size:48px; text-anchor:middle;\" transform=\"rotate(0, 723.035, 954.741)\" x=\"723.035\" y=\"954.741\">2</text>\n",
       "</g>\n",
       "<g clip-path=\"url(#clip6400)\">\n",
       "<text style=\"fill:#000000; fill-opacity:1; font-family:Arial,Helvetica Neue,Helvetica,sans-serif; font-size:48px; text-anchor:middle;\" transform=\"rotate(0, 1196.23, 954.741)\" x=\"1196.23\" y=\"954.741\">4</text>\n",
       "</g>\n",
       "<g clip-path=\"url(#clip6400)\">\n",
       "<text style=\"fill:#000000; fill-opacity:1; font-family:Arial,Helvetica Neue,Helvetica,sans-serif; font-size:48px; text-anchor:middle;\" transform=\"rotate(0, 1669.43, 954.741)\" x=\"1669.43\" y=\"954.741\">6</text>\n",
       "</g>\n",
       "<g clip-path=\"url(#clip6400)\">\n",
       "<text style=\"fill:#000000; fill-opacity:1; font-family:Arial,Helvetica Neue,Helvetica,sans-serif; font-size:48px; text-anchor:middle;\" transform=\"rotate(0, 2142.63, 954.741)\" x=\"2142.63\" y=\"954.741\">8</text>\n",
       "</g>\n",
       "<g clip-path=\"url(#clip6400)\">\n",
       "<text style=\"fill:#000000; fill-opacity:1; font-family:Arial,Helvetica Neue,Helvetica,sans-serif; font-size:48px; text-anchor:end;\" transform=\"rotate(0, 165.504, 899.329)\" x=\"165.504\" y=\"899.329\">-0.2</text>\n",
       "</g>\n",
       "<g clip-path=\"url(#clip6400)\">\n",
       "<text style=\"fill:#000000; fill-opacity:1; font-family:Arial,Helvetica Neue,Helvetica,sans-serif; font-size:48px; text-anchor:end;\" transform=\"rotate(0, 165.504, 852.009)\" x=\"165.504\" y=\"852.009\">0.0</text>\n",
       "</g>\n",
       "<g clip-path=\"url(#clip6400)\">\n",
       "<text style=\"fill:#000000; fill-opacity:1; font-family:Arial,Helvetica Neue,Helvetica,sans-serif; font-size:48px; text-anchor:end;\" transform=\"rotate(0, 165.504, 804.689)\" x=\"165.504\" y=\"804.689\">0.2</text>\n",
       "</g>\n",
       "<g clip-path=\"url(#clip6400)\">\n",
       "<text style=\"fill:#000000; fill-opacity:1; font-family:Arial,Helvetica Neue,Helvetica,sans-serif; font-size:48px; text-anchor:end;\" transform=\"rotate(0, 165.504, 757.37)\" x=\"165.504\" y=\"757.37\">0.4</text>\n",
       "</g>\n",
       "<g clip-path=\"url(#clip6400)\">\n",
       "<text style=\"fill:#000000; fill-opacity:1; font-family:Arial,Helvetica Neue,Helvetica,sans-serif; font-size:48px; text-anchor:end;\" transform=\"rotate(0, 165.504, 710.05)\" x=\"165.504\" y=\"710.05\">0.6</text>\n",
       "</g>\n",
       "<polyline clip-path=\"url(#clip6402)\" style=\"stroke:#009af9; stroke-width:4; stroke-opacity:1; fill:none\" points=\"\n",
       "  249.837,834.509 249.837,834.509 273.548,826.306 297.259,818.336 320.969,810.597 344.68,803.09 368.391,795.816 392.102,788.774 415.813,781.963 439.524,775.385 \n",
       "  463.234,769.039 486.945,762.925 510.656,757.044 534.367,751.394 558.078,745.976 581.789,740.791 605.5,735.837 629.21,731.116 652.921,726.627 676.632,722.37 \n",
       "  700.343,718.345 724.054,714.552 747.765,710.991 771.476,707.662 795.186,704.566 818.897,701.701 842.608,699.069 866.319,696.669 890.03,694.501 913.741,692.565 \n",
       "  937.452,690.861 961.162,689.389 984.873,688.149 1008.58,687.141 1032.29,686.366 1056.01,685.822 1079.72,685.511 1103.43,685.432 1127.14,685.585 1150.85,685.97 \n",
       "  1174.56,686.587 1198.27,687.436 1221.98,688.517 1245.69,689.831 1269.4,691.376 1293.11,693.154 1316.83,695.164 1340.54,697.405 1364.25,699.879 1387.96,702.585 \n",
       "  1411.67,705.523 1435.38,708.694 1459.09,712.096 1482.8,715.73 1506.51,719.597 1530.22,723.696 1553.93,728.026 1577.64,732.589 1601.36,737.384 1625.07,742.411 \n",
       "  1648.78,747.67 1672.49,753.162 1696.2,758.885 1719.91,764.84 1743.62,771.028 1767.33,777.448 1791.04,784.1 1814.75,790.983 1838.46,798.099 1862.17,805.447 \n",
       "  1885.89,813.028 1909.6,820.84 1933.31,828.884 \n",
       "  \"/>\n",
       "<polygon clip-path=\"url(#clip6402)\" points=\"\n",
       "2260.93,775.359 2260.69,767.856 2259.98,760.384 2258.79,752.971 2257.14,745.649 2255.02,738.446 2252.45,731.392 2249.44,724.515 2246,717.843 2242.15,711.402 \n",
       "  2237.89,705.219 2233.25,699.318 2228.25,693.723 2222.89,688.458 2217.22,683.542 2211.25,678.996 2205,674.837 2198.5,671.084 2191.77,667.75 2184.85,664.85 \n",
       "  2177.75,662.395 2170.52,660.395 2163.17,658.857 2155.74,657.789 2148.26,657.194 2140.75,657.075 2133.25,657.432 2125.79,658.264 2118.4,659.568 2111.1,661.337 \n",
       "  2103.94,663.566 2096.92,666.245 2090.09,669.364 2083.48,672.909 2077.1,676.867 2070.98,681.221 2065.16,685.955 2059.64,691.048 2054.46,696.481 2049.64,702.232 \n",
       "  2045.19,708.277 2041.13,714.592 2037.48,721.151 2034.25,727.93 2031.46,734.899 2029.12,742.031 2027.23,749.297 2025.81,756.668 2024.86,764.114 2024.39,771.606 \n",
       "  2024.39,779.113 2024.86,786.604 2025.81,794.051 2027.23,801.422 2029.12,808.688 2031.46,815.82 2034.25,822.789 2037.48,829.567 2041.13,836.127 2045.19,842.442 \n",
       "  2049.64,848.487 2054.46,854.238 2059.64,859.671 2065.16,864.764 2070.98,869.498 2077.1,873.852 2083.48,877.81 2090.09,881.355 2096.92,884.473 2103.94,887.152 \n",
       "  2111.1,889.381 2118.4,891.151 2125.79,892.455 2133.25,893.287 2140.75,893.644 2148.26,893.525 2155.74,892.93 2163.17,891.862 2170.52,890.324 2177.75,888.324 \n",
       "  2184.85,885.869 2191.77,882.968 2198.5,879.635 2205,875.881 2211.25,871.723 2217.22,867.177 2222.89,862.261 2228.25,856.995 2233.25,851.401 2237.89,845.5 \n",
       "  2242.15,839.317 2246,832.876 2249.44,826.204 2252.45,819.327 2255.02,812.273 2257.14,805.07 2258.79,797.748 2259.98,790.335 2260.69,782.862 2260.93,775.359 \n",
       "  2260.93,775.359 \n",
       "  \" fill=\"#ffff00\" fill-rule=\"evenodd\" fill-opacity=\"1\"/>\n",
       "<polyline clip-path=\"url(#clip6402)\" style=\"stroke:#000000; stroke-width:4; stroke-opacity:1; fill:none\" points=\"\n",
       "  2260.93,775.359 2260.69,767.856 2259.98,760.384 2258.79,752.971 2257.14,745.649 2255.02,738.446 2252.45,731.392 2249.44,724.515 2246,717.843 2242.15,711.402 \n",
       "  2237.89,705.219 2233.25,699.318 2228.25,693.723 2222.89,688.458 2217.22,683.542 2211.25,678.996 2205,674.837 2198.5,671.084 2191.77,667.75 2184.85,664.85 \n",
       "  2177.75,662.395 2170.52,660.395 2163.17,658.857 2155.74,657.789 2148.26,657.194 2140.75,657.075 2133.25,657.432 2125.79,658.264 2118.4,659.568 2111.1,661.337 \n",
       "  2103.94,663.566 2096.92,666.245 2090.09,669.364 2083.48,672.909 2077.1,676.867 2070.98,681.221 2065.16,685.955 2059.64,691.048 2054.46,696.481 2049.64,702.232 \n",
       "  2045.19,708.277 2041.13,714.592 2037.48,721.151 2034.25,727.93 2031.46,734.899 2029.12,742.031 2027.23,749.297 2025.81,756.668 2024.86,764.114 2024.39,771.606 \n",
       "  2024.39,779.113 2024.86,786.604 2025.81,794.051 2027.23,801.422 2029.12,808.688 2031.46,815.82 2034.25,822.789 2037.48,829.567 2041.13,836.127 2045.19,842.442 \n",
       "  2049.64,848.487 2054.46,854.238 2059.64,859.671 2065.16,864.764 2070.98,869.498 2077.1,873.852 2083.48,877.81 2090.09,881.355 2096.92,884.473 2103.94,887.152 \n",
       "  2111.1,889.381 2118.4,891.151 2125.79,892.455 2133.25,893.287 2140.75,893.644 2148.26,893.525 2155.74,892.93 2163.17,891.862 2170.52,890.324 2177.75,888.324 \n",
       "  2184.85,885.869 2191.77,882.968 2198.5,879.635 2205,875.881 2211.25,871.723 2217.22,867.177 2222.89,862.261 2228.25,856.995 2233.25,851.401 2237.89,845.5 \n",
       "  2242.15,839.317 2246,832.876 2249.44,826.204 2252.45,819.327 2255.02,812.273 2257.14,805.07 2258.79,797.748 2259.98,790.335 2260.69,782.862 2260.93,775.359 \n",
       "  \n",
       "  \"/>\n",
       "</svg>\n"
      ],
      "text/html": [
       "<?xml version=\"1.0\" encoding=\"utf-8\"?>\n",
       "<svg xmlns=\"http://www.w3.org/2000/svg\" xmlns:xlink=\"http://www.w3.org/1999/xlink\" width=\"600\" height=\"400\" viewBox=\"0 0 2400 1600\">\n",
       "<defs>\n",
       "  <clipPath id=\"clip6700\">\n",
       "    <rect x=\"0\" y=\"0\" width=\"2400\" height=\"1600\"/>\n",
       "  </clipPath>\n",
       "</defs>\n",
       "<polygon clip-path=\"url(#clip6700)\" points=\"\n",
       "0,1600 2400,1600 2400,0 0,0 \n",
       "  \" fill=\"#ffffff\" fill-rule=\"evenodd\" fill-opacity=\"1\"/>\n",
       "<defs>\n",
       "  <clipPath id=\"clip6701\">\n",
       "    <rect x=\"480\" y=\"0\" width=\"1681\" height=\"1600\"/>\n",
       "  </clipPath>\n",
       "</defs>\n",
       "<polygon clip-path=\"url(#clip6700)\" points=\"\n",
       "189.504,900.741 2321.26,900.741 2321.26,649.978 189.504,649.978 \n",
       "  \" fill=\"#ffffff\" fill-rule=\"evenodd\" fill-opacity=\"1\"/>\n",
       "<defs>\n",
       "  <clipPath id=\"clip6702\">\n",
       "    <rect x=\"189\" y=\"649\" width=\"2133\" height=\"252\"/>\n",
       "  </clipPath>\n",
       "</defs>\n",
       "<polyline clip-path=\"url(#clip6702)\" style=\"stroke:#000000; stroke-width:2; stroke-opacity:0.1; fill:none\" points=\"\n",
       "  249.837,900.741 249.837,649.978 \n",
       "  \"/>\n",
       "<polyline clip-path=\"url(#clip6702)\" style=\"stroke:#000000; stroke-width:2; stroke-opacity:0.1; fill:none\" points=\"\n",
       "  723.035,900.741 723.035,649.978 \n",
       "  \"/>\n",
       "<polyline clip-path=\"url(#clip6702)\" style=\"stroke:#000000; stroke-width:2; stroke-opacity:0.1; fill:none\" points=\"\n",
       "  1196.23,900.741 1196.23,649.978 \n",
       "  \"/>\n",
       "<polyline clip-path=\"url(#clip6702)\" style=\"stroke:#000000; stroke-width:2; stroke-opacity:0.1; fill:none\" points=\"\n",
       "  1669.43,900.741 1669.43,649.978 \n",
       "  \"/>\n",
       "<polyline clip-path=\"url(#clip6702)\" style=\"stroke:#000000; stroke-width:2; stroke-opacity:0.1; fill:none\" points=\"\n",
       "  2142.63,900.741 2142.63,649.978 \n",
       "  \"/>\n",
       "<polyline clip-path=\"url(#clip6702)\" style=\"stroke:#000000; stroke-width:2; stroke-opacity:0.1; fill:none\" points=\"\n",
       "  189.504,881.829 2321.26,881.829 \n",
       "  \"/>\n",
       "<polyline clip-path=\"url(#clip6702)\" style=\"stroke:#000000; stroke-width:2; stroke-opacity:0.1; fill:none\" points=\"\n",
       "  189.504,834.509 2321.26,834.509 \n",
       "  \"/>\n",
       "<polyline clip-path=\"url(#clip6702)\" style=\"stroke:#000000; stroke-width:2; stroke-opacity:0.1; fill:none\" points=\"\n",
       "  189.504,787.189 2321.26,787.189 \n",
       "  \"/>\n",
       "<polyline clip-path=\"url(#clip6702)\" style=\"stroke:#000000; stroke-width:2; stroke-opacity:0.1; fill:none\" points=\"\n",
       "  189.504,739.87 2321.26,739.87 \n",
       "  \"/>\n",
       "<polyline clip-path=\"url(#clip6702)\" style=\"stroke:#000000; stroke-width:2; stroke-opacity:0.1; fill:none\" points=\"\n",
       "  189.504,692.55 2321.26,692.55 \n",
       "  \"/>\n",
       "<polyline clip-path=\"url(#clip6700)\" style=\"stroke:#000000; stroke-width:4; stroke-opacity:1; fill:none\" points=\"\n",
       "  189.504,900.741 2321.26,900.741 \n",
       "  \"/>\n",
       "<polyline clip-path=\"url(#clip6700)\" style=\"stroke:#000000; stroke-width:4; stroke-opacity:1; fill:none\" points=\"\n",
       "  189.504,900.741 189.504,649.978 \n",
       "  \"/>\n",
       "<polyline clip-path=\"url(#clip6700)\" style=\"stroke:#000000; stroke-width:4; stroke-opacity:1; fill:none\" points=\"\n",
       "  249.837,900.741 249.837,896.98 \n",
       "  \"/>\n",
       "<polyline clip-path=\"url(#clip6700)\" style=\"stroke:#000000; stroke-width:4; stroke-opacity:1; fill:none\" points=\"\n",
       "  723.035,900.741 723.035,896.98 \n",
       "  \"/>\n",
       "<polyline clip-path=\"url(#clip6700)\" style=\"stroke:#000000; stroke-width:4; stroke-opacity:1; fill:none\" points=\"\n",
       "  1196.23,900.741 1196.23,896.98 \n",
       "  \"/>\n",
       "<polyline clip-path=\"url(#clip6700)\" style=\"stroke:#000000; stroke-width:4; stroke-opacity:1; fill:none\" points=\"\n",
       "  1669.43,900.741 1669.43,896.98 \n",
       "  \"/>\n",
       "<polyline clip-path=\"url(#clip6700)\" style=\"stroke:#000000; stroke-width:4; stroke-opacity:1; fill:none\" points=\"\n",
       "  2142.63,900.741 2142.63,896.98 \n",
       "  \"/>\n",
       "<polyline clip-path=\"url(#clip6700)\" style=\"stroke:#000000; stroke-width:4; stroke-opacity:1; fill:none\" points=\"\n",
       "  189.504,881.829 221.48,881.829 \n",
       "  \"/>\n",
       "<polyline clip-path=\"url(#clip6700)\" style=\"stroke:#000000; stroke-width:4; stroke-opacity:1; fill:none\" points=\"\n",
       "  189.504,834.509 221.48,834.509 \n",
       "  \"/>\n",
       "<polyline clip-path=\"url(#clip6700)\" style=\"stroke:#000000; stroke-width:4; stroke-opacity:1; fill:none\" points=\"\n",
       "  189.504,787.189 221.48,787.189 \n",
       "  \"/>\n",
       "<polyline clip-path=\"url(#clip6700)\" style=\"stroke:#000000; stroke-width:4; stroke-opacity:1; fill:none\" points=\"\n",
       "  189.504,739.87 221.48,739.87 \n",
       "  \"/>\n",
       "<polyline clip-path=\"url(#clip6700)\" style=\"stroke:#000000; stroke-width:4; stroke-opacity:1; fill:none\" points=\"\n",
       "  189.504,692.55 221.48,692.55 \n",
       "  \"/>\n",
       "<g clip-path=\"url(#clip6700)\">\n",
       "<text style=\"fill:#000000; fill-opacity:1; font-family:Arial,Helvetica Neue,Helvetica,sans-serif; font-size:48px; text-anchor:middle;\" transform=\"rotate(0, 249.837, 954.741)\" x=\"249.837\" y=\"954.741\">0</text>\n",
       "</g>\n",
       "<g clip-path=\"url(#clip6700)\">\n",
       "<text style=\"fill:#000000; fill-opacity:1; font-family:Arial,Helvetica Neue,Helvetica,sans-serif; font-size:48px; text-anchor:middle;\" transform=\"rotate(0, 723.035, 954.741)\" x=\"723.035\" y=\"954.741\">2</text>\n",
       "</g>\n",
       "<g clip-path=\"url(#clip6700)\">\n",
       "<text style=\"fill:#000000; fill-opacity:1; font-family:Arial,Helvetica Neue,Helvetica,sans-serif; font-size:48px; text-anchor:middle;\" transform=\"rotate(0, 1196.23, 954.741)\" x=\"1196.23\" y=\"954.741\">4</text>\n",
       "</g>\n",
       "<g clip-path=\"url(#clip6700)\">\n",
       "<text style=\"fill:#000000; fill-opacity:1; font-family:Arial,Helvetica Neue,Helvetica,sans-serif; font-size:48px; text-anchor:middle;\" transform=\"rotate(0, 1669.43, 954.741)\" x=\"1669.43\" y=\"954.741\">6</text>\n",
       "</g>\n",
       "<g clip-path=\"url(#clip6700)\">\n",
       "<text style=\"fill:#000000; fill-opacity:1; font-family:Arial,Helvetica Neue,Helvetica,sans-serif; font-size:48px; text-anchor:middle;\" transform=\"rotate(0, 2142.63, 954.741)\" x=\"2142.63\" y=\"954.741\">8</text>\n",
       "</g>\n",
       "<g clip-path=\"url(#clip6700)\">\n",
       "<text style=\"fill:#000000; fill-opacity:1; font-family:Arial,Helvetica Neue,Helvetica,sans-serif; font-size:48px; text-anchor:end;\" transform=\"rotate(0, 165.504, 899.329)\" x=\"165.504\" y=\"899.329\">-0.2</text>\n",
       "</g>\n",
       "<g clip-path=\"url(#clip6700)\">\n",
       "<text style=\"fill:#000000; fill-opacity:1; font-family:Arial,Helvetica Neue,Helvetica,sans-serif; font-size:48px; text-anchor:end;\" transform=\"rotate(0, 165.504, 852.009)\" x=\"165.504\" y=\"852.009\">0.0</text>\n",
       "</g>\n",
       "<g clip-path=\"url(#clip6700)\">\n",
       "<text style=\"fill:#000000; fill-opacity:1; font-family:Arial,Helvetica Neue,Helvetica,sans-serif; font-size:48px; text-anchor:end;\" transform=\"rotate(0, 165.504, 804.689)\" x=\"165.504\" y=\"804.689\">0.2</text>\n",
       "</g>\n",
       "<g clip-path=\"url(#clip6700)\">\n",
       "<text style=\"fill:#000000; fill-opacity:1; font-family:Arial,Helvetica Neue,Helvetica,sans-serif; font-size:48px; text-anchor:end;\" transform=\"rotate(0, 165.504, 757.37)\" x=\"165.504\" y=\"757.37\">0.4</text>\n",
       "</g>\n",
       "<g clip-path=\"url(#clip6700)\">\n",
       "<text style=\"fill:#000000; fill-opacity:1; font-family:Arial,Helvetica Neue,Helvetica,sans-serif; font-size:48px; text-anchor:end;\" transform=\"rotate(0, 165.504, 710.05)\" x=\"165.504\" y=\"710.05\">0.6</text>\n",
       "</g>\n",
       "<polyline clip-path=\"url(#clip6702)\" style=\"stroke:#009af9; stroke-width:4; stroke-opacity:1; fill:none\" points=\"\n",
       "  249.837,834.509 249.837,834.509 273.548,826.306 297.259,818.336 320.969,810.597 344.68,803.09 368.391,795.816 392.102,788.774 415.813,781.963 439.524,775.385 \n",
       "  463.234,769.039 486.945,762.925 510.656,757.044 534.367,751.394 558.078,745.976 581.789,740.791 605.5,735.837 629.21,731.116 652.921,726.627 676.632,722.37 \n",
       "  700.343,718.345 724.054,714.552 747.765,710.991 771.476,707.662 795.186,704.566 818.897,701.701 842.608,699.069 866.319,696.669 890.03,694.501 913.741,692.565 \n",
       "  937.452,690.861 961.162,689.389 984.873,688.149 1008.58,687.141 1032.29,686.366 1056.01,685.822 1079.72,685.511 1103.43,685.432 1127.14,685.585 1150.85,685.97 \n",
       "  1174.56,686.587 1198.27,687.436 1221.98,688.517 1245.69,689.831 1269.4,691.376 1293.11,693.154 1316.83,695.164 1340.54,697.405 1364.25,699.879 1387.96,702.585 \n",
       "  1411.67,705.523 1435.38,708.694 1459.09,712.096 1482.8,715.73 1506.51,719.597 1530.22,723.696 1553.93,728.026 1577.64,732.589 1601.36,737.384 1625.07,742.411 \n",
       "  1648.78,747.67 1672.49,753.162 1696.2,758.885 1719.91,764.84 1743.62,771.028 1767.33,777.448 1791.04,784.1 1814.75,790.983 1838.46,798.099 1862.17,805.447 \n",
       "  1885.89,813.028 1909.6,820.84 1933.31,828.884 \n",
       "  \"/>\n",
       "<polygon clip-path=\"url(#clip6702)\" points=\"\n",
       "2260.93,775.359 2260.69,767.856 2259.98,760.384 2258.79,752.971 2257.14,745.649 2255.02,738.446 2252.45,731.392 2249.44,724.515 2246,717.843 2242.15,711.402 \n",
       "  2237.89,705.219 2233.25,699.318 2228.25,693.723 2222.89,688.458 2217.22,683.542 2211.25,678.996 2205,674.837 2198.5,671.084 2191.77,667.75 2184.85,664.85 \n",
       "  2177.75,662.395 2170.52,660.395 2163.17,658.857 2155.74,657.789 2148.26,657.194 2140.75,657.075 2133.25,657.432 2125.79,658.264 2118.4,659.568 2111.1,661.337 \n",
       "  2103.94,663.566 2096.92,666.245 2090.09,669.364 2083.48,672.909 2077.1,676.867 2070.98,681.221 2065.16,685.955 2059.64,691.048 2054.46,696.481 2049.64,702.232 \n",
       "  2045.19,708.277 2041.13,714.592 2037.48,721.151 2034.25,727.93 2031.46,734.899 2029.12,742.031 2027.23,749.297 2025.81,756.668 2024.86,764.114 2024.39,771.606 \n",
       "  2024.39,779.113 2024.86,786.604 2025.81,794.051 2027.23,801.422 2029.12,808.688 2031.46,815.82 2034.25,822.789 2037.48,829.567 2041.13,836.127 2045.19,842.442 \n",
       "  2049.64,848.487 2054.46,854.238 2059.64,859.671 2065.16,864.764 2070.98,869.498 2077.1,873.852 2083.48,877.81 2090.09,881.355 2096.92,884.473 2103.94,887.152 \n",
       "  2111.1,889.381 2118.4,891.151 2125.79,892.455 2133.25,893.287 2140.75,893.644 2148.26,893.525 2155.74,892.93 2163.17,891.862 2170.52,890.324 2177.75,888.324 \n",
       "  2184.85,885.869 2191.77,882.968 2198.5,879.635 2205,875.881 2211.25,871.723 2217.22,867.177 2222.89,862.261 2228.25,856.995 2233.25,851.401 2237.89,845.5 \n",
       "  2242.15,839.317 2246,832.876 2249.44,826.204 2252.45,819.327 2255.02,812.273 2257.14,805.07 2258.79,797.748 2259.98,790.335 2260.69,782.862 2260.93,775.359 \n",
       "  2260.93,775.359 \n",
       "  \" fill=\"#ffff00\" fill-rule=\"evenodd\" fill-opacity=\"1\"/>\n",
       "<polyline clip-path=\"url(#clip6702)\" style=\"stroke:#000000; stroke-width:4; stroke-opacity:1; fill:none\" points=\"\n",
       "  2260.93,775.359 2260.69,767.856 2259.98,760.384 2258.79,752.971 2257.14,745.649 2255.02,738.446 2252.45,731.392 2249.44,724.515 2246,717.843 2242.15,711.402 \n",
       "  2237.89,705.219 2233.25,699.318 2228.25,693.723 2222.89,688.458 2217.22,683.542 2211.25,678.996 2205,674.837 2198.5,671.084 2191.77,667.75 2184.85,664.85 \n",
       "  2177.75,662.395 2170.52,660.395 2163.17,658.857 2155.74,657.789 2148.26,657.194 2140.75,657.075 2133.25,657.432 2125.79,658.264 2118.4,659.568 2111.1,661.337 \n",
       "  2103.94,663.566 2096.92,666.245 2090.09,669.364 2083.48,672.909 2077.1,676.867 2070.98,681.221 2065.16,685.955 2059.64,691.048 2054.46,696.481 2049.64,702.232 \n",
       "  2045.19,708.277 2041.13,714.592 2037.48,721.151 2034.25,727.93 2031.46,734.899 2029.12,742.031 2027.23,749.297 2025.81,756.668 2024.86,764.114 2024.39,771.606 \n",
       "  2024.39,779.113 2024.86,786.604 2025.81,794.051 2027.23,801.422 2029.12,808.688 2031.46,815.82 2034.25,822.789 2037.48,829.567 2041.13,836.127 2045.19,842.442 \n",
       "  2049.64,848.487 2054.46,854.238 2059.64,859.671 2065.16,864.764 2070.98,869.498 2077.1,873.852 2083.48,877.81 2090.09,881.355 2096.92,884.473 2103.94,887.152 \n",
       "  2111.1,889.381 2118.4,891.151 2125.79,892.455 2133.25,893.287 2140.75,893.644 2148.26,893.525 2155.74,892.93 2163.17,891.862 2170.52,890.324 2177.75,888.324 \n",
       "  2184.85,885.869 2191.77,882.968 2198.5,879.635 2205,875.881 2211.25,871.723 2217.22,867.177 2222.89,862.261 2228.25,856.995 2233.25,851.401 2237.89,845.5 \n",
       "  2242.15,839.317 2246,832.876 2249.44,826.204 2252.45,819.327 2255.02,812.273 2257.14,805.07 2258.79,797.748 2259.98,790.335 2260.69,782.862 2260.93,775.359 \n",
       "  \n",
       "  \"/>\n",
       "</svg>\n"
      ],
      "text/plain": [
       "Plot{Plots.GRBackend() n=2}"
      ]
     },
     "execution_count": 6,
     "metadata": {},
     "output_type": "execute_result"
    }
   ],
   "source": [
    "series_, ball_pos_, ball_radius_ = rand((series, ball_pos, ball_radius))\n",
    "vizscene(series_, ball_pos_, ball_radius_)"
   ]
  },
  {
   "cell_type": "markdown",
   "metadata": {},
   "source": [
    "Next we do simple collision detection to see if the projectile intersects the ball"
   ]
  },
  {
   "cell_type": "code",
   "execution_count": 7,
   "metadata": {},
   "outputs": [
    {
     "data": {
      "text/plain": [
       "13:Main.##369.projectile_hits_()::Omega.Soft.DualSoftBool{Omega.Soft.SoftBool{Float64}}"
      ]
     },
     "execution_count": 7,
     "metadata": {},
     "output_type": "execute_result"
    }
   ],
   "source": [
    "\"Is this position inside the ball\"\n",
    "isinside(pos, ball_pos, ball_radius) = sqrt(sum((pos .- ball_pos).^2)) <ₛ ball_radius\n",
    "\n",
    "\"Does the projectile hit the ball?\"\n",
    "function projectile_hits_(ω)\n",
    "  series_ = series(ω)\n",
    "  ball_pos_, ball_radius_ = ball_pos(ω), ball_radius(ω)\n",
    "  hits_vs_t = map(pos -> isinside(pos, ball_pos_, ball_radius_), series_)\n",
    "  anyₛ(hits_vs_t)\n",
    "end\n",
    "\n",
    "const projectile_hits = ciid(projectile_hits_)"
   ]
  },
  {
   "cell_type": "markdown",
   "metadata": {},
   "source": [
    "The prior probability that the projectile hits the ball can be approximated:"
   ]
  },
  {
   "cell_type": "code",
   "execution_count": 8,
   "metadata": {},
   "outputs": [
    {
     "data": {
      "text/plain": [
       "0.108"
      ]
     },
     "execution_count": 8,
     "metadata": {},
     "output_type": "execute_result"
    }
   ],
   "source": [
    "Statistics.mean(Bool.(rand(projectile_hits, 1000)))"
   ]
  },
  {
   "cell_type": "markdown",
   "metadata": {},
   "source": [
    "Now, we sample a world where the conditions are true:"
   ]
  },
  {
   "cell_type": "code",
   "execution_count": 9,
   "metadata": {},
   "outputs": [
    {
     "name": "stdout",
     "output_type": "stream",
     "text": [
      "temps = [2.06115e-9, 4.53999e-5, 1.0, 22026.5]\n"
     ]
    },
    {
     "data": {
      "image/png": "[encoded data removed]",
      "image/svg+xml": [
       "<?xml version=\"1.0\" encoding=\"utf-8\"?>\n",
       "<svg xmlns=\"http://www.w3.org/2000/svg\" xmlns:xlink=\"http://www.w3.org/1999/xlink\" width=\"600\" height=\"400\" viewBox=\"0 0 2400 1600\">\n",
       "<defs>\n",
       "  <clipPath id=\"clip7000\">\n",
       "    <rect x=\"0\" y=\"0\" width=\"2400\" height=\"1600\"/>\n",
       "  </clipPath>\n",
       "</defs>\n",
       "<polygon clip-path=\"url(#clip7000)\" points=\"\n",
       "0,1600 2400,1600 2400,0 0,0 \n",
       "  \" fill=\"#ffffff\" fill-rule=\"evenodd\" fill-opacity=\"1\"/>\n",
       "<defs>\n",
       "  <clipPath id=\"clip7001\">\n",
       "    <rect x=\"480\" y=\"0\" width=\"1681\" height=\"1600\"/>\n",
       "  </clipPath>\n",
       "</defs>\n",
       "<polygon clip-path=\"url(#clip7000)\" points=\"\n",
       "216.266,983.815 2321.26,983.815 2321.26,566.904 216.266,566.904 \n",
       "  \" fill=\"#ffffff\" fill-rule=\"evenodd\" fill-opacity=\"1\"/>\n",
       "<defs>\n",
       "  <clipPath id=\"clip7002\">\n",
       "    <rect x=\"216\" y=\"566\" width=\"2106\" height=\"418\"/>\n",
       "  </clipPath>\n",
       "</defs>\n",
       "<polyline clip-path=\"url(#clip7002)\" style=\"stroke:#000000; stroke-width:2; stroke-opacity:0.1; fill:none\" points=\"\n",
       "  275.842,983.815 275.842,566.904 \n",
       "  \"/>\n",
       "<polyline clip-path=\"url(#clip7002)\" style=\"stroke:#000000; stroke-width:2; stroke-opacity:0.1; fill:none\" points=\"\n",
       "  743.099,983.815 743.099,566.904 \n",
       "  \"/>\n",
       "<polyline clip-path=\"url(#clip7002)\" style=\"stroke:#000000; stroke-width:2; stroke-opacity:0.1; fill:none\" points=\"\n",
       "  1210.36,983.815 1210.36,566.904 \n",
       "  \"/>\n",
       "<polyline clip-path=\"url(#clip7002)\" style=\"stroke:#000000; stroke-width:2; stroke-opacity:0.1; fill:none\" points=\"\n",
       "  1677.61,983.815 1677.61,566.904 \n",
       "  \"/>\n",
       "<polyline clip-path=\"url(#clip7002)\" style=\"stroke:#000000; stroke-width:2; stroke-opacity:0.1; fill:none\" points=\"\n",
       "  2144.87,983.815 2144.87,566.904 \n",
       "  \"/>\n",
       "<polyline clip-path=\"url(#clip7002)\" style=\"stroke:#000000; stroke-width:2; stroke-opacity:0.1; fill:none\" points=\"\n",
       "  216.266,972.03 2321.26,972.03 \n",
       "  \"/>\n",
       "<polyline clip-path=\"url(#clip7002)\" style=\"stroke:#000000; stroke-width:2; stroke-opacity:0.1; fill:none\" points=\"\n",
       "  216.266,913.623 2321.26,913.623 \n",
       "  \"/>\n",
       "<polyline clip-path=\"url(#clip7002)\" style=\"stroke:#000000; stroke-width:2; stroke-opacity:0.1; fill:none\" points=\"\n",
       "  216.266,855.216 2321.26,855.216 \n",
       "  \"/>\n",
       "<polyline clip-path=\"url(#clip7002)\" style=\"stroke:#000000; stroke-width:2; stroke-opacity:0.1; fill:none\" points=\"\n",
       "  216.266,796.809 2321.26,796.809 \n",
       "  \"/>\n",
       "<polyline clip-path=\"url(#clip7002)\" style=\"stroke:#000000; stroke-width:2; stroke-opacity:0.1; fill:none\" points=\"\n",
       "  216.266,738.402 2321.26,738.402 \n",
       "  \"/>\n",
       "<polyline clip-path=\"url(#clip7002)\" style=\"stroke:#000000; stroke-width:2; stroke-opacity:0.1; fill:none\" points=\"\n",
       "  216.266,679.994 2321.26,679.994 \n",
       "  \"/>\n",
       "<polyline clip-path=\"url(#clip7002)\" style=\"stroke:#000000; stroke-width:2; stroke-opacity:0.1; fill:none\" points=\"\n",
       "  216.266,621.587 2321.26,621.587 \n",
       "  \"/>\n",
       "<polyline clip-path=\"url(#clip7000)\" style=\"stroke:#000000; stroke-width:4; stroke-opacity:1; fill:none\" points=\"\n",
       "  216.266,983.815 2321.26,983.815 \n",
       "  \"/>\n",
       "<polyline clip-path=\"url(#clip7000)\" style=\"stroke:#000000; stroke-width:4; stroke-opacity:1; fill:none\" points=\"\n",
       "  216.266,983.815 216.266,566.904 \n",
       "  \"/>\n",
       "<polyline clip-path=\"url(#clip7000)\" style=\"stroke:#000000; stroke-width:4; stroke-opacity:1; fill:none\" points=\"\n",
       "  275.842,983.815 275.842,977.561 \n",
       "  \"/>\n",
       "<polyline clip-path=\"url(#clip7000)\" style=\"stroke:#000000; stroke-width:4; stroke-opacity:1; fill:none\" points=\"\n",
       "  743.099,983.815 743.099,977.561 \n",
       "  \"/>\n",
       "<polyline clip-path=\"url(#clip7000)\" style=\"stroke:#000000; stroke-width:4; stroke-opacity:1; fill:none\" points=\"\n",
       "  1210.36,983.815 1210.36,977.561 \n",
       "  \"/>\n",
       "<polyline clip-path=\"url(#clip7000)\" style=\"stroke:#000000; stroke-width:4; stroke-opacity:1; fill:none\" points=\"\n",
       "  1677.61,983.815 1677.61,977.561 \n",
       "  \"/>\n",
       "<polyline clip-path=\"url(#clip7000)\" style=\"stroke:#000000; stroke-width:4; stroke-opacity:1; fill:none\" points=\"\n",
       "  2144.87,983.815 2144.87,977.561 \n",
       "  \"/>\n",
       "<polyline clip-path=\"url(#clip7000)\" style=\"stroke:#000000; stroke-width:4; stroke-opacity:1; fill:none\" points=\"\n",
       "  216.266,972.03 247.841,972.03 \n",
       "  \"/>\n",
       "<polyline clip-path=\"url(#clip7000)\" style=\"stroke:#000000; stroke-width:4; stroke-opacity:1; fill:none\" points=\"\n",
       "  216.266,913.623 247.841,913.623 \n",
       "  \"/>\n",
       "<polyline clip-path=\"url(#clip7000)\" style=\"stroke:#000000; stroke-width:4; stroke-opacity:1; fill:none\" points=\"\n",
       "  216.266,855.216 247.841,855.216 \n",
       "  \"/>\n",
       "<polyline clip-path=\"url(#clip7000)\" style=\"stroke:#000000; stroke-width:4; stroke-opacity:1; fill:none\" points=\"\n",
       "  216.266,796.809 247.841,796.809 \n",
       "  \"/>\n",
       "<polyline clip-path=\"url(#clip7000)\" style=\"stroke:#000000; stroke-width:4; stroke-opacity:1; fill:none\" points=\"\n",
       "  216.266,738.402 247.841,738.402 \n",
       "  \"/>\n",
       "<polyline clip-path=\"url(#clip7000)\" style=\"stroke:#000000; stroke-width:4; stroke-opacity:1; fill:none\" points=\"\n",
       "  216.266,679.994 247.841,679.994 \n",
       "  \"/>\n",
       "<polyline clip-path=\"url(#clip7000)\" style=\"stroke:#000000; stroke-width:4; stroke-opacity:1; fill:none\" points=\"\n",
       "  216.266,621.587 247.841,621.587 \n",
       "  \"/>\n",
       "<g clip-path=\"url(#clip7000)\">\n",
       "<text style=\"fill:#000000; fill-opacity:1; font-family:Arial,Helvetica Neue,Helvetica,sans-serif; font-size:48px; text-anchor:middle;\" transform=\"rotate(0, 275.842, 1037.81)\" x=\"275.842\" y=\"1037.81\">0</text>\n",
       "</g>\n",
       "<g clip-path=\"url(#clip7000)\">\n",
       "<text style=\"fill:#000000; fill-opacity:1; font-family:Arial,Helvetica Neue,Helvetica,sans-serif; font-size:48px; text-anchor:middle;\" transform=\"rotate(0, 743.099, 1037.81)\" x=\"743.099\" y=\"1037.81\">2</text>\n",
       "</g>\n",
       "<g clip-path=\"url(#clip7000)\">\n",
       "<text style=\"fill:#000000; fill-opacity:1; font-family:Arial,Helvetica Neue,Helvetica,sans-serif; font-size:48px; text-anchor:middle;\" transform=\"rotate(0, 1210.36, 1037.81)\" x=\"1210.36\" y=\"1037.81\">4</text>\n",
       "</g>\n",
       "<g clip-path=\"url(#clip7000)\">\n",
       "<text style=\"fill:#000000; fill-opacity:1; font-family:Arial,Helvetica Neue,Helvetica,sans-serif; font-size:48px; text-anchor:middle;\" transform=\"rotate(0, 1677.61, 1037.81)\" x=\"1677.61\" y=\"1037.81\">6</text>\n",
       "</g>\n",
       "<g clip-path=\"url(#clip7000)\">\n",
       "<text style=\"fill:#000000; fill-opacity:1; font-family:Arial,Helvetica Neue,Helvetica,sans-serif; font-size:48px; text-anchor:middle;\" transform=\"rotate(0, 2144.87, 1037.81)\" x=\"2144.87\" y=\"1037.81\">8</text>\n",
       "</g>\n",
       "<g clip-path=\"url(#clip7000)\">\n",
       "<text style=\"fill:#000000; fill-opacity:1; font-family:Arial,Helvetica Neue,Helvetica,sans-serif; font-size:48px; text-anchor:end;\" transform=\"rotate(0, 192.266, 989.53)\" x=\"192.266\" y=\"989.53\">-0.25</text>\n",
       "</g>\n",
       "<g clip-path=\"url(#clip7000)\">\n",
       "<text style=\"fill:#000000; fill-opacity:1; font-family:Arial,Helvetica Neue,Helvetica,sans-serif; font-size:48px; text-anchor:end;\" transform=\"rotate(0, 192.266, 931.123)\" x=\"192.266\" y=\"931.123\">0.00</text>\n",
       "</g>\n",
       "<g clip-path=\"url(#clip7000)\">\n",
       "<text style=\"fill:#000000; fill-opacity:1; font-family:Arial,Helvetica Neue,Helvetica,sans-serif; font-size:48px; text-anchor:end;\" transform=\"rotate(0, 192.266, 872.716)\" x=\"192.266\" y=\"872.716\">0.25</text>\n",
       "</g>\n",
       "<g clip-path=\"url(#clip7000)\">\n",
       "<text style=\"fill:#000000; fill-opacity:1; font-family:Arial,Helvetica Neue,Helvetica,sans-serif; font-size:48px; text-anchor:end;\" transform=\"rotate(0, 192.266, 814.309)\" x=\"192.266\" y=\"814.309\">0.50</text>\n",
       "</g>\n",
       "<g clip-path=\"url(#clip7000)\">\n",
       "<text style=\"fill:#000000; fill-opacity:1; font-family:Arial,Helvetica Neue,Helvetica,sans-serif; font-size:48px; text-anchor:end;\" transform=\"rotate(0, 192.266, 755.902)\" x=\"192.266\" y=\"755.902\">0.75</text>\n",
       "</g>\n",
       "<g clip-path=\"url(#clip7000)\">\n",
       "<text style=\"fill:#000000; fill-opacity:1; font-family:Arial,Helvetica Neue,Helvetica,sans-serif; font-size:48px; text-anchor:end;\" transform=\"rotate(0, 192.266, 697.494)\" x=\"192.266\" y=\"697.494\">1.00</text>\n",
       "</g>\n",
       "<g clip-path=\"url(#clip7000)\">\n",
       "<text style=\"fill:#000000; fill-opacity:1; font-family:Arial,Helvetica Neue,Helvetica,sans-serif; font-size:48px; text-anchor:end;\" transform=\"rotate(0, 192.266, 639.087)\" x=\"192.266\" y=\"639.087\">1.25</text>\n",
       "</g>\n",
       "<polyline clip-path=\"url(#clip7002)\" style=\"stroke:#009af9; stroke-width:4; stroke-opacity:1; fill:none\" points=\"\n",
       "  275.842,913.623 275.842,913.623 292.905,901.347 309.968,889.301 327.032,877.483 344.095,865.895 361.159,854.536 378.222,843.406 395.285,832.506 412.349,821.834 \n",
       "  429.412,811.392 446.475,801.179 463.539,791.195 480.602,781.441 497.665,771.915 514.729,762.619 531.792,753.552 548.855,744.714 565.919,736.105 582.982,727.726 \n",
       "  600.046,719.575 617.109,711.654 634.172,703.962 651.236,696.5 668.299,689.266 685.362,682.262 702.426,675.486 719.489,668.94 736.552,662.624 753.616,656.536 \n",
       "  770.679,650.678 787.743,645.048 804.806,639.648 821.869,634.477 838.933,629.536 855.996,624.823 873.059,620.34 890.123,616.086 907.186,612.061 924.249,608.265 \n",
       "  941.313,604.699 958.376,601.361 975.439,598.253 992.503,595.374 1009.57,592.724 1026.63,590.304 1043.69,588.112 1060.76,586.15 1077.82,584.417 1094.88,582.913 \n",
       "  1111.95,581.639 1129.01,580.593 1146.07,579.777 1163.14,579.19 1180.2,578.832 1197.26,578.703 1214.33,578.804 1231.39,579.134 1248.45,579.693 1265.52,580.481 \n",
       "  1282.58,581.498 1299.64,582.744 1316.71,584.22 1333.77,585.925 1350.83,587.859 1367.9,590.022 1384.96,592.414 1402.02,595.036 1419.09,597.887 1436.15,600.967 \n",
       "  1453.21,604.276 1470.28,607.814 1487.34,611.582 1504.4,615.578 1521.47,619.804 1538.53,624.26 1555.59,628.944 1572.66,633.857 1589.72,639 1606.78,644.372 \n",
       "  1623.85,649.973 1640.91,655.803 1657.97,661.863 1675.04,668.151 1692.1,674.669 1709.16,681.416 1726.23,688.392 1743.29,695.598 1760.35,703.032 1777.42,710.696 \n",
       "  1794.48,718.589 1811.54,726.711 1828.61,735.062 1845.67,743.643 1862.73,752.453 1879.8,761.491 1896.86,770.76 1913.92,780.257 1930.99,789.983 1948.05,799.939 \n",
       "  1965.11,810.124 1982.18,820.538 1999.24,831.181 2016.3,842.053 2033.37,853.155 2050.43,864.486 2067.49,876.046 2084.56,887.835 2101.62,899.853 2118.68,912.101 \n",
       "  \n",
       "  \"/>\n",
       "<polygon clip-path=\"url(#clip7002)\" points=\"\n",
       "2261.68,855.216 2261.45,847.807 2260.74,840.428 2259.57,833.109 2257.94,825.878 2255.85,818.766 2253.32,811.8 2250.34,805.01 2246.95,798.421 2243.14,792.061 \n",
       "  2238.94,785.956 2234.36,780.129 2229.41,774.605 2224.13,769.405 2218.53,764.551 2212.63,760.062 2206.46,755.956 2200.04,752.249 2193.4,748.958 2186.56,746.094 \n",
       "  2179.55,743.67 2172.41,741.694 2165.15,740.176 2157.82,739.121 2150.43,738.534 2143.02,738.416 2135.61,738.769 2128.25,739.591 2120.95,740.878 2113.74,742.625 \n",
       "  2106.66,744.826 2099.74,747.472 2093,750.551 2086.46,754.052 2080.16,757.96 2074.13,762.259 2068.37,766.933 2062.93,771.963 2057.81,777.328 2053.05,783.006 \n",
       "  2048.65,788.975 2044.65,795.211 2041.04,801.688 2037.86,808.381 2035.1,815.263 2032.79,822.305 2030.93,829.48 2029.52,836.759 2028.58,844.112 2028.11,851.51 \n",
       "  2028.11,858.922 2028.58,866.32 2029.52,873.673 2030.93,880.951 2032.79,888.126 2035.1,895.169 2037.86,902.05 2041.04,908.743 2044.65,915.221 2048.65,921.456 \n",
       "  2053.05,927.426 2057.81,933.104 2062.93,938.469 2068.37,943.498 2074.13,948.172 2080.16,952.472 2086.46,956.38 2093,959.881 2099.74,962.96 2106.66,965.605 \n",
       "  2113.74,967.806 2120.95,969.554 2128.25,970.841 2135.61,971.663 2143.02,972.015 2150.43,971.898 2157.82,971.31 2165.15,970.255 2172.41,968.737 2179.55,966.762 \n",
       "  2186.56,964.338 2193.4,961.474 2200.04,958.182 2206.46,954.476 2212.63,950.37 2218.53,945.881 2224.13,941.027 2229.41,935.827 2234.36,930.303 2238.94,924.476 \n",
       "  2243.14,918.37 2246.95,912.011 2250.34,905.422 2253.32,898.631 2255.85,891.666 2257.94,884.553 2259.57,877.323 2260.74,870.004 2261.45,862.625 2261.68,855.216 \n",
       "  2261.68,855.216 \n",
       "  \" fill=\"#ffff00\" fill-rule=\"evenodd\" fill-opacity=\"1\"/>\n",
       "<polyline clip-path=\"url(#clip7002)\" style=\"stroke:#000000; stroke-width:4; stroke-opacity:1; fill:none\" points=\"\n",
       "  2261.68,855.216 2261.45,847.807 2260.74,840.428 2259.57,833.109 2257.94,825.878 2255.85,818.766 2253.32,811.8 2250.34,805.01 2246.95,798.421 2243.14,792.061 \n",
       "  2238.94,785.956 2234.36,780.129 2229.41,774.605 2224.13,769.405 2218.53,764.551 2212.63,760.062 2206.46,755.956 2200.04,752.249 2193.4,748.958 2186.56,746.094 \n",
       "  2179.55,743.67 2172.41,741.694 2165.15,740.176 2157.82,739.121 2150.43,738.534 2143.02,738.416 2135.61,738.769 2128.25,739.591 2120.95,740.878 2113.74,742.625 \n",
       "  2106.66,744.826 2099.74,747.472 2093,750.551 2086.46,754.052 2080.16,757.96 2074.13,762.259 2068.37,766.933 2062.93,771.963 2057.81,777.328 2053.05,783.006 \n",
       "  2048.65,788.975 2044.65,795.211 2041.04,801.688 2037.86,808.381 2035.1,815.263 2032.79,822.305 2030.93,829.48 2029.52,836.759 2028.58,844.112 2028.11,851.51 \n",
       "  2028.11,858.922 2028.58,866.32 2029.52,873.673 2030.93,880.951 2032.79,888.126 2035.1,895.169 2037.86,902.05 2041.04,908.743 2044.65,915.221 2048.65,921.456 \n",
       "  2053.05,927.426 2057.81,933.104 2062.93,938.469 2068.37,943.498 2074.13,948.172 2080.16,952.472 2086.46,956.38 2093,959.881 2099.74,962.96 2106.66,965.605 \n",
       "  2113.74,967.806 2120.95,969.554 2128.25,970.841 2135.61,971.663 2143.02,972.015 2150.43,971.898 2157.82,971.31 2165.15,970.255 2172.41,968.737 2179.55,966.762 \n",
       "  2186.56,964.338 2193.4,961.474 2200.04,958.182 2206.46,954.476 2212.63,950.37 2218.53,945.881 2224.13,941.027 2229.41,935.827 2234.36,930.303 2238.94,924.476 \n",
       "  2243.14,918.37 2246.95,912.011 2250.34,905.422 2253.32,898.631 2255.85,891.666 2257.94,884.553 2259.57,877.323 2260.74,870.004 2261.45,862.625 2261.68,855.216 \n",
       "  \n",
       "  \"/>\n",
       "</svg>\n"
      ],
      "text/html": [
       "<?xml version=\"1.0\" encoding=\"utf-8\"?>\n",
       "<svg xmlns=\"http://www.w3.org/2000/svg\" xmlns:xlink=\"http://www.w3.org/1999/xlink\" width=\"600\" height=\"400\" viewBox=\"0 0 2400 1600\">\n",
       "<defs>\n",
       "  <clipPath id=\"clip7300\">\n",
       "    <rect x=\"0\" y=\"0\" width=\"2400\" height=\"1600\"/>\n",
       "  </clipPath>\n",
       "</defs>\n",
       "<polygon clip-path=\"url(#clip7300)\" points=\"\n",
       "0,1600 2400,1600 2400,0 0,0 \n",
       "  \" fill=\"#ffffff\" fill-rule=\"evenodd\" fill-opacity=\"1\"/>\n",
       "<defs>\n",
       "  <clipPath id=\"clip7301\">\n",
       "    <rect x=\"480\" y=\"0\" width=\"1681\" height=\"1600\"/>\n",
       "  </clipPath>\n",
       "</defs>\n",
       "<polygon clip-path=\"url(#clip7300)\" points=\"\n",
       "216.266,983.815 2321.26,983.815 2321.26,566.904 216.266,566.904 \n",
       "  \" fill=\"#ffffff\" fill-rule=\"evenodd\" fill-opacity=\"1\"/>\n",
       "<defs>\n",
       "  <clipPath id=\"clip7302\">\n",
       "    <rect x=\"216\" y=\"566\" width=\"2106\" height=\"418\"/>\n",
       "  </clipPath>\n",
       "</defs>\n",
       "<polyline clip-path=\"url(#clip7302)\" style=\"stroke:#000000; stroke-width:2; stroke-opacity:0.1; fill:none\" points=\"\n",
       "  275.842,983.815 275.842,566.904 \n",
       "  \"/>\n",
       "<polyline clip-path=\"url(#clip7302)\" style=\"stroke:#000000; stroke-width:2; stroke-opacity:0.1; fill:none\" points=\"\n",
       "  743.099,983.815 743.099,566.904 \n",
       "  \"/>\n",
       "<polyline clip-path=\"url(#clip7302)\" style=\"stroke:#000000; stroke-width:2; stroke-opacity:0.1; fill:none\" points=\"\n",
       "  1210.36,983.815 1210.36,566.904 \n",
       "  \"/>\n",
       "<polyline clip-path=\"url(#clip7302)\" style=\"stroke:#000000; stroke-width:2; stroke-opacity:0.1; fill:none\" points=\"\n",
       "  1677.61,983.815 1677.61,566.904 \n",
       "  \"/>\n",
       "<polyline clip-path=\"url(#clip7302)\" style=\"stroke:#000000; stroke-width:2; stroke-opacity:0.1; fill:none\" points=\"\n",
       "  2144.87,983.815 2144.87,566.904 \n",
       "  \"/>\n",
       "<polyline clip-path=\"url(#clip7302)\" style=\"stroke:#000000; stroke-width:2; stroke-opacity:0.1; fill:none\" points=\"\n",
       "  216.266,972.03 2321.26,972.03 \n",
       "  \"/>\n",
       "<polyline clip-path=\"url(#clip7302)\" style=\"stroke:#000000; stroke-width:2; stroke-opacity:0.1; fill:none\" points=\"\n",
       "  216.266,913.623 2321.26,913.623 \n",
       "  \"/>\n",
       "<polyline clip-path=\"url(#clip7302)\" style=\"stroke:#000000; stroke-width:2; stroke-opacity:0.1; fill:none\" points=\"\n",
       "  216.266,855.216 2321.26,855.216 \n",
       "  \"/>\n",
       "<polyline clip-path=\"url(#clip7302)\" style=\"stroke:#000000; stroke-width:2; stroke-opacity:0.1; fill:none\" points=\"\n",
       "  216.266,796.809 2321.26,796.809 \n",
       "  \"/>\n",
       "<polyline clip-path=\"url(#clip7302)\" style=\"stroke:#000000; stroke-width:2; stroke-opacity:0.1; fill:none\" points=\"\n",
       "  216.266,738.402 2321.26,738.402 \n",
       "  \"/>\n",
       "<polyline clip-path=\"url(#clip7302)\" style=\"stroke:#000000; stroke-width:2; stroke-opacity:0.1; fill:none\" points=\"\n",
       "  216.266,679.994 2321.26,679.994 \n",
       "  \"/>\n",
       "<polyline clip-path=\"url(#clip7302)\" style=\"stroke:#000000; stroke-width:2; stroke-opacity:0.1; fill:none\" points=\"\n",
       "  216.266,621.587 2321.26,621.587 \n",
       "  \"/>\n",
       "<polyline clip-path=\"url(#clip7300)\" style=\"stroke:#000000; stroke-width:4; stroke-opacity:1; fill:none\" points=\"\n",
       "  216.266,983.815 2321.26,983.815 \n",
       "  \"/>\n",
       "<polyline clip-path=\"url(#clip7300)\" style=\"stroke:#000000; stroke-width:4; stroke-opacity:1; fill:none\" points=\"\n",
       "  216.266,983.815 216.266,566.904 \n",
       "  \"/>\n",
       "<polyline clip-path=\"url(#clip7300)\" style=\"stroke:#000000; stroke-width:4; stroke-opacity:1; fill:none\" points=\"\n",
       "  275.842,983.815 275.842,977.561 \n",
       "  \"/>\n",
       "<polyline clip-path=\"url(#clip7300)\" style=\"stroke:#000000; stroke-width:4; stroke-opacity:1; fill:none\" points=\"\n",
       "  743.099,983.815 743.099,977.561 \n",
       "  \"/>\n",
       "<polyline clip-path=\"url(#clip7300)\" style=\"stroke:#000000; stroke-width:4; stroke-opacity:1; fill:none\" points=\"\n",
       "  1210.36,983.815 1210.36,977.561 \n",
       "  \"/>\n",
       "<polyline clip-path=\"url(#clip7300)\" style=\"stroke:#000000; stroke-width:4; stroke-opacity:1; fill:none\" points=\"\n",
       "  1677.61,983.815 1677.61,977.561 \n",
       "  \"/>\n",
       "<polyline clip-path=\"url(#clip7300)\" style=\"stroke:#000000; stroke-width:4; stroke-opacity:1; fill:none\" points=\"\n",
       "  2144.87,983.815 2144.87,977.561 \n",
       "  \"/>\n",
       "<polyline clip-path=\"url(#clip7300)\" style=\"stroke:#000000; stroke-width:4; stroke-opacity:1; fill:none\" points=\"\n",
       "  216.266,972.03 247.841,972.03 \n",
       "  \"/>\n",
       "<polyline clip-path=\"url(#clip7300)\" style=\"stroke:#000000; stroke-width:4; stroke-opacity:1; fill:none\" points=\"\n",
       "  216.266,913.623 247.841,913.623 \n",
       "  \"/>\n",
       "<polyline clip-path=\"url(#clip7300)\" style=\"stroke:#000000; stroke-width:4; stroke-opacity:1; fill:none\" points=\"\n",
       "  216.266,855.216 247.841,855.216 \n",
       "  \"/>\n",
       "<polyline clip-path=\"url(#clip7300)\" style=\"stroke:#000000; stroke-width:4; stroke-opacity:1; fill:none\" points=\"\n",
       "  216.266,796.809 247.841,796.809 \n",
       "  \"/>\n",
       "<polyline clip-path=\"url(#clip7300)\" style=\"stroke:#000000; stroke-width:4; stroke-opacity:1; fill:none\" points=\"\n",
       "  216.266,738.402 247.841,738.402 \n",
       "  \"/>\n",
       "<polyline clip-path=\"url(#clip7300)\" style=\"stroke:#000000; stroke-width:4; stroke-opacity:1; fill:none\" points=\"\n",
       "  216.266,679.994 247.841,679.994 \n",
       "  \"/>\n",
       "<polyline clip-path=\"url(#clip7300)\" style=\"stroke:#000000; stroke-width:4; stroke-opacity:1; fill:none\" points=\"\n",
       "  216.266,621.587 247.841,621.587 \n",
       "  \"/>\n",
       "<g clip-path=\"url(#clip7300)\">\n",
       "<text style=\"fill:#000000; fill-opacity:1; font-family:Arial,Helvetica Neue,Helvetica,sans-serif; font-size:48px; text-anchor:middle;\" transform=\"rotate(0, 275.842, 1037.81)\" x=\"275.842\" y=\"1037.81\">0</text>\n",
       "</g>\n",
       "<g clip-path=\"url(#clip7300)\">\n",
       "<text style=\"fill:#000000; fill-opacity:1; font-family:Arial,Helvetica Neue,Helvetica,sans-serif; font-size:48px; text-anchor:middle;\" transform=\"rotate(0, 743.099, 1037.81)\" x=\"743.099\" y=\"1037.81\">2</text>\n",
       "</g>\n",
       "<g clip-path=\"url(#clip7300)\">\n",
       "<text style=\"fill:#000000; fill-opacity:1; font-family:Arial,Helvetica Neue,Helvetica,sans-serif; font-size:48px; text-anchor:middle;\" transform=\"rotate(0, 1210.36, 1037.81)\" x=\"1210.36\" y=\"1037.81\">4</text>\n",
       "</g>\n",
       "<g clip-path=\"url(#clip7300)\">\n",
       "<text style=\"fill:#000000; fill-opacity:1; font-family:Arial,Helvetica Neue,Helvetica,sans-serif; font-size:48px; text-anchor:middle;\" transform=\"rotate(0, 1677.61, 1037.81)\" x=\"1677.61\" y=\"1037.81\">6</text>\n",
       "</g>\n",
       "<g clip-path=\"url(#clip7300)\">\n",
       "<text style=\"fill:#000000; fill-opacity:1; font-family:Arial,Helvetica Neue,Helvetica,sans-serif; font-size:48px; text-anchor:middle;\" transform=\"rotate(0, 2144.87, 1037.81)\" x=\"2144.87\" y=\"1037.81\">8</text>\n",
       "</g>\n",
       "<g clip-path=\"url(#clip7300)\">\n",
       "<text style=\"fill:#000000; fill-opacity:1; font-family:Arial,Helvetica Neue,Helvetica,sans-serif; font-size:48px; text-anchor:end;\" transform=\"rotate(0, 192.266, 989.53)\" x=\"192.266\" y=\"989.53\">-0.25</text>\n",
       "</g>\n",
       "<g clip-path=\"url(#clip7300)\">\n",
       "<text style=\"fill:#000000; fill-opacity:1; font-family:Arial,Helvetica Neue,Helvetica,sans-serif; font-size:48px; text-anchor:end;\" transform=\"rotate(0, 192.266, 931.123)\" x=\"192.266\" y=\"931.123\">0.00</text>\n",
       "</g>\n",
       "<g clip-path=\"url(#clip7300)\">\n",
       "<text style=\"fill:#000000; fill-opacity:1; font-family:Arial,Helvetica Neue,Helvetica,sans-serif; font-size:48px; text-anchor:end;\" transform=\"rotate(0, 192.266, 872.716)\" x=\"192.266\" y=\"872.716\">0.25</text>\n",
       "</g>\n",
       "<g clip-path=\"url(#clip7300)\">\n",
       "<text style=\"fill:#000000; fill-opacity:1; font-family:Arial,Helvetica Neue,Helvetica,sans-serif; font-size:48px; text-anchor:end;\" transform=\"rotate(0, 192.266, 814.309)\" x=\"192.266\" y=\"814.309\">0.50</text>\n",
       "</g>\n",
       "<g clip-path=\"url(#clip7300)\">\n",
       "<text style=\"fill:#000000; fill-opacity:1; font-family:Arial,Helvetica Neue,Helvetica,sans-serif; font-size:48px; text-anchor:end;\" transform=\"rotate(0, 192.266, 755.902)\" x=\"192.266\" y=\"755.902\">0.75</text>\n",
       "</g>\n",
       "<g clip-path=\"url(#clip7300)\">\n",
       "<text style=\"fill:#000000; fill-opacity:1; font-family:Arial,Helvetica Neue,Helvetica,sans-serif; font-size:48px; text-anchor:end;\" transform=\"rotate(0, 192.266, 697.494)\" x=\"192.266\" y=\"697.494\">1.00</text>\n",
       "</g>\n",
       "<g clip-path=\"url(#clip7300)\">\n",
       "<text style=\"fill:#000000; fill-opacity:1; font-family:Arial,Helvetica Neue,Helvetica,sans-serif; font-size:48px; text-anchor:end;\" transform=\"rotate(0, 192.266, 639.087)\" x=\"192.266\" y=\"639.087\">1.25</text>\n",
       "</g>\n",
       "<polyline clip-path=\"url(#clip7302)\" style=\"stroke:#009af9; stroke-width:4; stroke-opacity:1; fill:none\" points=\"\n",
       "  275.842,913.623 275.842,913.623 292.905,901.347 309.968,889.301 327.032,877.483 344.095,865.895 361.159,854.536 378.222,843.406 395.285,832.506 412.349,821.834 \n",
       "  429.412,811.392 446.475,801.179 463.539,791.195 480.602,781.441 497.665,771.915 514.729,762.619 531.792,753.552 548.855,744.714 565.919,736.105 582.982,727.726 \n",
       "  600.046,719.575 617.109,711.654 634.172,703.962 651.236,696.5 668.299,689.266 685.362,682.262 702.426,675.486 719.489,668.94 736.552,662.624 753.616,656.536 \n",
       "  770.679,650.678 787.743,645.048 804.806,639.648 821.869,634.477 838.933,629.536 855.996,624.823 873.059,620.34 890.123,616.086 907.186,612.061 924.249,608.265 \n",
       "  941.313,604.699 958.376,601.361 975.439,598.253 992.503,595.374 1009.57,592.724 1026.63,590.304 1043.69,588.112 1060.76,586.15 1077.82,584.417 1094.88,582.913 \n",
       "  1111.95,581.639 1129.01,580.593 1146.07,579.777 1163.14,579.19 1180.2,578.832 1197.26,578.703 1214.33,578.804 1231.39,579.134 1248.45,579.693 1265.52,580.481 \n",
       "  1282.58,581.498 1299.64,582.744 1316.71,584.22 1333.77,585.925 1350.83,587.859 1367.9,590.022 1384.96,592.414 1402.02,595.036 1419.09,597.887 1436.15,600.967 \n",
       "  1453.21,604.276 1470.28,607.814 1487.34,611.582 1504.4,615.578 1521.47,619.804 1538.53,624.26 1555.59,628.944 1572.66,633.857 1589.72,639 1606.78,644.372 \n",
       "  1623.85,649.973 1640.91,655.803 1657.97,661.863 1675.04,668.151 1692.1,674.669 1709.16,681.416 1726.23,688.392 1743.29,695.598 1760.35,703.032 1777.42,710.696 \n",
       "  1794.48,718.589 1811.54,726.711 1828.61,735.062 1845.67,743.643 1862.73,752.453 1879.8,761.491 1896.86,770.76 1913.92,780.257 1930.99,789.983 1948.05,799.939 \n",
       "  1965.11,810.124 1982.18,820.538 1999.24,831.181 2016.3,842.053 2033.37,853.155 2050.43,864.486 2067.49,876.046 2084.56,887.835 2101.62,899.853 2118.68,912.101 \n",
       "  \n",
       "  \"/>\n",
       "<polygon clip-path=\"url(#clip7302)\" points=\"\n",
       "2261.68,855.216 2261.45,847.807 2260.74,840.428 2259.57,833.109 2257.94,825.878 2255.85,818.766 2253.32,811.8 2250.34,805.01 2246.95,798.421 2243.14,792.061 \n",
       "  2238.94,785.956 2234.36,780.129 2229.41,774.605 2224.13,769.405 2218.53,764.551 2212.63,760.062 2206.46,755.956 2200.04,752.249 2193.4,748.958 2186.56,746.094 \n",
       "  2179.55,743.67 2172.41,741.694 2165.15,740.176 2157.82,739.121 2150.43,738.534 2143.02,738.416 2135.61,738.769 2128.25,739.591 2120.95,740.878 2113.74,742.625 \n",
       "  2106.66,744.826 2099.74,747.472 2093,750.551 2086.46,754.052 2080.16,757.96 2074.13,762.259 2068.37,766.933 2062.93,771.963 2057.81,777.328 2053.05,783.006 \n",
       "  2048.65,788.975 2044.65,795.211 2041.04,801.688 2037.86,808.381 2035.1,815.263 2032.79,822.305 2030.93,829.48 2029.52,836.759 2028.58,844.112 2028.11,851.51 \n",
       "  2028.11,858.922 2028.58,866.32 2029.52,873.673 2030.93,880.951 2032.79,888.126 2035.1,895.169 2037.86,902.05 2041.04,908.743 2044.65,915.221 2048.65,921.456 \n",
       "  2053.05,927.426 2057.81,933.104 2062.93,938.469 2068.37,943.498 2074.13,948.172 2080.16,952.472 2086.46,956.38 2093,959.881 2099.74,962.96 2106.66,965.605 \n",
       "  2113.74,967.806 2120.95,969.554 2128.25,970.841 2135.61,971.663 2143.02,972.015 2150.43,971.898 2157.82,971.31 2165.15,970.255 2172.41,968.737 2179.55,966.762 \n",
       "  2186.56,964.338 2193.4,961.474 2200.04,958.182 2206.46,954.476 2212.63,950.37 2218.53,945.881 2224.13,941.027 2229.41,935.827 2234.36,930.303 2238.94,924.476 \n",
       "  2243.14,918.37 2246.95,912.011 2250.34,905.422 2253.32,898.631 2255.85,891.666 2257.94,884.553 2259.57,877.323 2260.74,870.004 2261.45,862.625 2261.68,855.216 \n",
       "  2261.68,855.216 \n",
       "  \" fill=\"#ffff00\" fill-rule=\"evenodd\" fill-opacity=\"1\"/>\n",
       "<polyline clip-path=\"url(#clip7302)\" style=\"stroke:#000000; stroke-width:4; stroke-opacity:1; fill:none\" points=\"\n",
       "  2261.68,855.216 2261.45,847.807 2260.74,840.428 2259.57,833.109 2257.94,825.878 2255.85,818.766 2253.32,811.8 2250.34,805.01 2246.95,798.421 2243.14,792.061 \n",
       "  2238.94,785.956 2234.36,780.129 2229.41,774.605 2224.13,769.405 2218.53,764.551 2212.63,760.062 2206.46,755.956 2200.04,752.249 2193.4,748.958 2186.56,746.094 \n",
       "  2179.55,743.67 2172.41,741.694 2165.15,740.176 2157.82,739.121 2150.43,738.534 2143.02,738.416 2135.61,738.769 2128.25,739.591 2120.95,740.878 2113.74,742.625 \n",
       "  2106.66,744.826 2099.74,747.472 2093,750.551 2086.46,754.052 2080.16,757.96 2074.13,762.259 2068.37,766.933 2062.93,771.963 2057.81,777.328 2053.05,783.006 \n",
       "  2048.65,788.975 2044.65,795.211 2041.04,801.688 2037.86,808.381 2035.1,815.263 2032.79,822.305 2030.93,829.48 2029.52,836.759 2028.58,844.112 2028.11,851.51 \n",
       "  2028.11,858.922 2028.58,866.32 2029.52,873.673 2030.93,880.951 2032.79,888.126 2035.1,895.169 2037.86,902.05 2041.04,908.743 2044.65,915.221 2048.65,921.456 \n",
       "  2053.05,927.426 2057.81,933.104 2062.93,938.469 2068.37,943.498 2074.13,948.172 2080.16,952.472 2086.46,956.38 2093,959.881 2099.74,962.96 2106.66,965.605 \n",
       "  2113.74,967.806 2120.95,969.554 2128.25,970.841 2135.61,971.663 2143.02,972.015 2150.43,971.898 2157.82,971.31 2165.15,970.255 2172.41,968.737 2179.55,966.762 \n",
       "  2186.56,964.338 2193.4,961.474 2200.04,958.182 2206.46,954.476 2212.63,950.37 2218.53,945.881 2224.13,941.027 2229.41,935.827 2234.36,930.303 2238.94,924.476 \n",
       "  2243.14,918.37 2246.95,912.011 2250.34,905.422 2253.32,898.631 2255.85,891.666 2257.94,884.553 2259.57,877.323 2260.74,870.004 2261.45,862.625 2261.68,855.216 \n",
       "  \n",
       "  \"/>\n",
       "</svg>\n"
      ],
      "text/plain": [
       "Plot{Plots.GRBackend() n=2}"
      ]
     },
     "execution_count": 9,
     "metadata": {},
     "output_type": "execute_result"
    }
   ],
   "source": [
    "post_samples = rand((series, ball_pos, ball_radius), projectile_hits, 1000; alg = Replica)\n",
    "series_, ball_pos_, ball_radius_ = ntranspose(post_samples)\n",
    "i = rand(1:length(series_))\n",
    "vizscene(series_[i], ball_pos_[i], ball_radius_[i])"
   ]
  },
  {
   "cell_type": "markdown",
   "metadata": {},
   "source": [
    "### But For Causality"
   ]
  },
  {
   "cell_type": "markdown",
   "metadata": {},
   "source": [
    "We will now use but-for causality to determine whether the angle of projection is the cause of the projectile hitting the ball"
   ]
  },
  {
   "cell_type": "markdown",
   "metadata": {},
   "source": [
    "But-for causality looks for an intervention that invalidates the cause and the effect.\n",
    "Since we have soft constraints, we formulate this as an optimization problem.\n",
    "The following function sketches the implementation of but_for.  The full implementation can be found in our extension of Omega."
   ]
  },
  {
   "cell_type": "code",
   "execution_count": 10,
   "metadata": {},
   "outputs": [
    {
     "data": {
      "text/plain": [
       "Main.##369.iscausebfsketch"
      ]
     },
     "execution_count": 10,
     "metadata": {},
     "output_type": "execute_result"
    }
   ],
   "source": [
    "\"\"\"\n",
    "`iscausebf(ω, c, e, iset; kwargs...)`\n",
    "\n",
    "But-for causality.\n",
    "\n",
    "Is `c` (provably) the actual cause of `e` in the causal world `ω`, allowing\n",
    "interventions on variables defined in  `isset`\n",
    "\"\"\"\n",
    "function iscausebfsketch(ω::Omega.Ω, c::RandVar, e::RandVar, iset;\n",
    "                   sizes = [length(i(ω)) for i in iset],\n",
    "                   proj = identity, # maps reals to types of intervened vars\n",
    "                   optargs...)\n",
    "  @assert Bool(c(ω)) && Bool(e(ω)) \"Both cause and effect must be true in ω\"\n",
    "  # Construct a loss function that is 1 when the constraint is satisfied\n",
    "  loss = let rngs = splitvec(sizes), butfor = Omega.ciid(ω -> !c(ω) & !e(ω)), proj = proj\n",
    "    function loss(vec, grad)\n",
    "      # Since optimization requries vectors, we must do some book keeping\n",
    "      replmap = Dict(iset[i] => proj(vec[rng]) for (i, rng) in enumerate(rngs))\n",
    "      # In loss function we construct intervened mode where intervenable variables\n",
    "      # in iset have been set to values under consideration\n",
    "      butforint = replace(butfor, replmap)\n",
    "      # Get a score of the degree tow hich the effect `e` stil holds (in log scale)\n",
    "      Omega.logerr(butforint(ω))\n",
    "    end\n",
    "  end\n",
    "  # optimize this loss function\n",
    "  nlopt(loss, ω, iset, sizes; optargs...)\n",
    "end"
   ]
  },
  {
   "cell_type": "markdown",
   "metadata": {},
   "source": [
    "Next, we must construct a causal world world where the condition is true (the projectile hits):"
   ]
  },
  {
   "cell_type": "code",
   "execution_count": 11,
   "metadata": {},
   "outputs": [
    {
     "name": "stdout",
     "output_type": "stream",
     "text": [
      "temps = [2.06115e-9, 4.53999e-5, 1.0, 22026.5]\n"
     ]
    }
   ],
   "source": [
    "ωs = rand(Random.MersenneTwister(), defΩ(Replica), logerr(projectile_hits),  1000, Replica);"
   ]
  },
  {
   "cell_type": "markdown",
   "metadata": {},
   "source": [
    "Take a single sample from this set and do a sanity check (the projectile really does hit)"
   ]
  },
  {
   "cell_type": "code",
   "execution_count": 12,
   "metadata": {},
   "outputs": [
    {
     "data": {
      "text/plain": [
       "true"
      ]
     },
     "execution_count": 12,
     "metadata": {},
     "output_type": "execute_result"
    }
   ],
   "source": [
    "ω = ωs[end]\n",
    "Bool(projectile_hits(ω))"
   ]
  },
  {
   "cell_type": "markdown",
   "metadata": {},
   "source": [
    "Finally, we can check but-for causality: in world ω, is value that θ takes in this world cause of the projectile hitting?"
   ]
  },
  {
   "cell_type": "code",
   "execution_count": 13,
   "metadata": {},
   "outputs": [
    {
     "data": {
      "text/plain": [
       "true"
      ]
     },
     "execution_count": 13,
     "metadata": {},
     "output_type": "execute_result"
    }
   ],
   "source": [
    "Omega.iscausebf(ω, θ ==ₛ θ(ω), projectile_hits, [θ], proj = first)"
   ]
  },
  {
   "cell_type": "markdown",
   "metadata": {},
   "source": [
    "*This notebook was generated using [Literate.jl](https://github.com/fredrikekre/Literate.jl).*"
   ]
  }
 ],
 "metadata": {
  "@webio": {
   "lastCommId": "5C7F0F193957498F8179583CB656D310",
   "lastKernelId": "b5426bb2-3c70-425e-b59d-131586f90045"
  },
  "kernelspec": {
   "display_name": "Julia 1.1.0",
   "language": "julia",
   "name": "julia-1.1"
  },
  "language_info": {
   "file_extension": ".jl",
   "mimetype": "application/julia",
   "name": "julia",
   "version": "1.1.0"
  }
 },
 "nbformat": 4,
 "nbformat_minor": 3
}
